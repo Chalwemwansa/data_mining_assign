{
  "cells": [
    {
      "cell_type": "markdown",
      "metadata": {
        "id": "view-in-github",
        "colab_type": "text"
      },
      "source": [
        "<a href=\"https://colab.research.google.com/github/Chalwemwansa/data_mining_assign/blob/master/Group_22_data_mining_assign.ipynb\" target=\"_parent\"><img src=\"https://colab.research.google.com/assets/colab-badge.svg\" alt=\"Open In Colab\"/></a>"
      ]
    },
    {
      "cell_type": "markdown",
      "metadata": {
        "id": "IerYbU6h9pBb"
      },
      "source": [
        "# Business Understanding\n",
        "\n",
        "## Problem Statement\n",
        "\n",
        "The reliability and usefulness of Zambian Wikipedia pages as a source of current information can be affected when the content becomes outdated  \n",
        "In many cases information that once was accurate is left unchanged for long periods of time and this makes it hard for readers to trust that what they are reading reflects the present situation  \n",
        "\n",
        "Without a clear and organized way to identify which pages are stale or contain old data it is difficult for contributors especially Zambian Wikipedians to know where their attention is most needed  \n",
        "This lack of direction means that updates can be random or uneven and some topics remain untouched while others are repeatedly edited  \n",
        "\n",
        "Over time this results in a reduced quality of content on and about Zambia making the platform less valuable as a resource for people who rely on it for research learning or keeping up with developments in the country."
      ]
    },
    {
      "cell_type": "markdown",
      "metadata": {
        "id": "SR97zLySPLB0"
      },
      "source": [
        "\n",
        "## Business Objectives\n",
        "\n",
        "From a practical real world view success for this project means being able to identify what is old and what is still current  \n",
        "It is about detecting and flagging sections or whole Zambian Wikipedia pages like the Zambia page that hold stale facts  \n",
        "Clear signals help both readers and editors see where drift has happened and how serious it is  \n",
        "\n",
        "The next step is to make updates easier not harder  \n",
        "Contributors especially Zambian Wikipedians need a simple way to spot which pages or sections most need attention for factual recency  \n",
        "This supports the DataLab Research group as it explores strategies for improving contributions on and about Zambia  \n",
        "Having a clear queue of priority pages is more useful than relying on guesswork or scattered edits  \n",
        "\n",
        "The long term aim is to raise the overall currency of information on Wikipedia pages about Zambia  \n",
        "Fresher content increases trust and value whether the pages are used in schools in media or in everyday research  \n",
        "When updates become routine and guided the quality of the whole collection improves steadily  \n",
        "\n",
        "These objectives align with the CRISP DM phase of Business Understanding  \n",
        "Here the aim is to define broad and specific goals while also staying close to the needs of the community that relies on and contributes to this knowledge  \n"
      ]
    },
    {
      "cell_type": "markdown",
      "metadata": {
        "id": "djuxIf2aEYBG"
      },
      "source": [
        "## Data Mining\n",
        "\n",
        "To meet the business obejectives, our task is to develop a classification model that can label the recency of content on Zambian Wikipedia pages. Each section would be tagged as 'Current','Moderately Outdated' or 'Severely Outdated', giving contributors and readers a quick sense of accuracy. This turns the challenge of stale information into a clear, structured task.\n",
        "\n",
        "Beyond classification, we also aim to analyse edit histories to reveal how quickly different topics become outdated. Some pages, like those on politics, may need frequent updates, while others such as geography remain stable for longer. Spotting these trends helps contributors anticipate where attention will be needed next.\n",
        "\n",
        "Finally, the project should provide ranking metrics that highlight high-priority pages. Instead of random edits, contributors can follow a clear queue that shows where updates will have the most impact. In this way, data mining goals directly support fresher, more reliable information on Wikipedia pages about Zambia"
      ]
    },
    {
      "cell_type": "markdown",
      "metadata": {
        "id": "EaPJ929fl16C"
      },
      "source": [
        "## Initial Project Success Criteria\n",
        "\n",
        "Our initial criteria for project success will be measured by:\n",
        "\n",
        "- **Classification Accuracy**  \n",
        "  The classification model should achieve an accuracy of at least 85% in correctly identifying the recency level of data on Zambian Wikipedia pages. This will serve as a key benchmark for determining whether the project is meeting its early objectives  \n",
        "\n",
        "- **Interpretability and Actionability**  \n",
        "  The predictions of the model and the factors influencing them must be understandable to human editors. Contributors should be able to see why a page is flagged as outdated and also get clear guidance on what needs updating. The results should be actionable so Wikipedians can focus their efforts where they matter most  \n",
        "\n",
        "- **Scalability**  \n",
        "  The model should be capable of being applied to a wide range of Zambian Wikipedia pages and not just a single Zambia page. Broader application will make the tool useful for long term and large scale improvements  \n",
        "\n",
        "- **Feedback Integration**  \n",
        "  Another measure of success will be how well the model’s insights can be integrated into a tool or dashboard that Wikipedians can use. This would allow contributors to receive notifications or recommendations for content updates in a more structured and user friendly way  \n",
        "\n",
        "These criteria provide a practical way of measuring the relative success of the project and align with the \"Key Success Criteria\" aspect of the CRISP-DM Business Understanding phase  \n"
      ]
    }
  ],
  "metadata": {
    "colab": {
      "provenance": [],
      "toc_visible": true,
      "include_colab_link": true
    },
    "kernelspec": {
      "display_name": "Python 3",
      "name": "python3"
    },
    "language_info": {
      "name": "python"
    }
  },
  "nbformat": 4,
  "nbformat_minor": 0
}