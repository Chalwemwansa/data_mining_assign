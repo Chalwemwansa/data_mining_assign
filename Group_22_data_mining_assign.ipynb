{
  "nbformat": 4,
  "nbformat_minor": 0,
  "metadata": {
    "colab": {
      "provenance": [],
      "authorship_tag": "ABX9TyMMV4/QA3Jua6bEcHtET4Lk",
      "include_colab_link": true
    },
    "kernelspec": {
      "name": "python3",
      "display_name": "Python 3"
    },
    "language_info": {
      "name": "python"
    }
  },
  "cells": [
    {
      "cell_type": "markdown",
      "metadata": {
        "id": "view-in-github",
        "colab_type": "text"
      },
      "source": [
        "<a href=\"https://colab.research.google.com/github/Chalwemwansa/data_mining_assign/blob/master/Group_22_data_mining_assign.ipynb\" target=\"_parent\"><img src=\"https://colab.research.google.com/assets/colab-badge.svg\" alt=\"Open In Colab\"/></a>"
      ]
    },
    {
      "cell_type": "markdown",
      "source": [
        "# Business Understanding\n",
        "\n",
        "## Problem Statement\n",
        "\n",
        "The reliability and usefulness of Zambian Wikipedia pages as a source of current information can be affected when the content becomes outdated  \n",
        "In many cases information that once was accurate is left unchanged for long periods of time and this makes it hard for readers to trust that what they are reading reflects the present situation  \n",
        "\n",
        "Without a clear and organized way to identify which pages are stale or contain old data it is difficult for contributors especially Zambian Wikipedians to know where their attention is most needed  \n",
        "This lack of direction means that updates can be random or uneven and some topics remain untouched while others are repeatedly edited  \n",
        "\n",
        "Over time this results in a reduced quality of content on and about Zambia making the platform less valuable as a resource for people who rely on it for research learning or keeping up with developments in the country."
      ],
      "metadata": {
        "id": "IerYbU6h9pBb"
      }
    },
    {
      "cell_type": "code",
      "source": [],
      "metadata": {
        "id": "NvyPsVmQ-BRh"
      },
      "execution_count": null,
      "outputs": []
    }
  ]
}