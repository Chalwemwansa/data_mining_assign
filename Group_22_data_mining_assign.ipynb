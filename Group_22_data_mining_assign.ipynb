{
  "cells": [
    {
      "cell_type": "markdown",
      "metadata": {
        "id": "view-in-github",
        "colab_type": "text"
      },
      "source": [
        "<a href=\"https://colab.research.google.com/github/Chalwemwansa/data_mining_assign/blob/master/Group_22_data_mining_assign.ipynb\" target=\"_parent\"><img src=\"https://colab.research.google.com/assets/colab-badge.svg\" alt=\"Open In Colab\"/></a>"
      ]
    },
    {
      "cell_type": "markdown",
      "metadata": {
        "id": "IerYbU6h9pBb"
      },
      "source": [
        "# 1. Business Understanding\n",
        "\n",
        "## Problem Statement\n",
        "\n",
        "The reliability and usefulness of Zambian Wikipedia pages as a source of current information can be affected when the content becomes outdated  \n",
        "In many cases information that once was accurate is left unchanged for long periods of time and this makes it hard for readers to trust that what they are reading reflects the present situation  \n",
        "\n",
        "Without a clear and organized way to identify which pages are stale or contain old data it is difficult for contributors especially Zambian Wikipedians to know where their attention is most needed  \n",
        "This lack of direction means that updates can be random or uneven and some topics remain untouched while others are repeatedly edited  \n",
        "\n",
        "Over time this results in a reduced quality of content on and about Zambia making the platform less valuable as a resource for people who rely on it for research learning or keeping up with developments in the country."
      ]
    },
    {
      "cell_type": "markdown",
      "metadata": {
        "id": "QRDGW3GwtZaO"
      },
      "source": [
        "\n",
        "## Business Objectives\n",
        "\n",
        "From a practical real world view success for this project means being able to identify what is old and what is still current  \n",
        "It is about detecting and flagging sections or whole Zambian Wikipedia pages like the Zambia page that hold stale facts  \n",
        "Clear signals help both readers and editors see where drift has happened and how serious it is  \n",
        "\n",
        "The next step is to make updates easier not harder  \n",
        "Contributors especially Zambian Wikipedians need a simple way to spot which pages or sections most need attention for factual recency  \n",
        "This supports the DataLab Research group as it explores strategies for improving contributions on and about Zambia  \n",
        "Having a clear queue of priority pages is more useful than relying on guesswork or scattered edits  \n",
        "\n",
        "The long term aim is to raise the overall currency of information on Wikipedia pages about Zambia  \n",
        "Fresher content increases trust and value whether the pages are used in schools in media or in everyday research  \n",
        "When updates become routine and guided the quality of the whole collection improves steadily  \n",
        "\n",
        "These objectives align with the CRISP DM phase of Business Understanding  \n",
        "Here the aim is to define broad and specific goals while also staying close to the needs of the community that relies on and contributes to this knowledge  \n"
      ]
    },
    {
      "cell_type": "markdown",
      "metadata": {
        "id": "xSFSNZlUlEDF"
      },
      "source": [
        "This foundation ensures that later technical steps—like data preparation, modeling, and evaluation—stay tied to real impact and community relevance."
      ]
    },
    {
      "cell_type": "markdown",
      "metadata": {
        "id": "pNxJM4_U-TmF"
      },
      "source": [
        "## Data Mining\n",
        "\n",
        "To meet the business obejectives, our task is to develop a classification model that can label the recency of content on Zambian Wikipedia pages. Each section would be tagged as 'Current','Moderately Outdated' or 'Severely Outdated', giving contributors and readers a quick sense of accuracy. This turns the challenge of stale information into a clear, structured task.\n",
        "\n",
        "Beyond classification, we also aim to analyse edit histories to reveal how quickly different topics become outdated. Some pages, like those on politics, may need frequent updates, while others such as geography remain stable for longer. Spotting these trends helps contributors anticipate where attention will be needed next.\n",
        "\n",
        "Finally, the project should provide ranking metrics that highlight high-priority pages. Instead of random edits, contributors can follow a clear queue that shows where updates will have the most impact. In this way, data mining goals directly support fresher, more reliable information on Wikipedia pages about Zambia"
      ]
    },
    {
      "cell_type": "markdown",
      "metadata": {
        "id": "lEeGa11fRdIt"
      },
      "source": [
        "## Initial Project Success Criteria\n",
        "\n",
        "Our initial criteria for project success will be measured by:\n",
        "\n",
        "- **Classification Accuracy**  \n",
        "  The classification model should achieve an accuracy of at least 85% in correctly identifying the recency level of data on Zambian Wikipedia pages. This will serve as a key benchmark for determining whether the project is meeting its early objectives  \n",
        "\n",
        "- **Interpretability and Actionability**  \n",
        "  The predictions of the model and the factors influencing them must be understandable to human editors. Contributors should be able to see why a page is flagged as outdated and also get clear guidance on what needs updating. The results should be actionable so Wikipedians can focus their efforts where they matter most  \n",
        "\n",
        "- **Scalability**  \n",
        "  The model should be capable of being applied to a wide range of Zambian Wikipedia pages and not just a single Zambia page. Broader application will make the tool useful for long term and large scale improvements  \n",
        "\n",
        "- **Feedback Integration**  \n",
        "  Another measure of success will be how well the model's insights can be integrated into a tool or dashboard that Wikipedians can use. This would allow contributors to receive notifications or recommendations for content updates in a more structured and user friendly way  \n",
        "\n",
        "These criteria provide a practical way of measuring the relative success of the project and align with the \"Key Success Criteria\" aspect of the CRISP-DM Business Understanding phase  \n"
      ]
    },
    {
      "cell_type": "markdown",
      "metadata": {
        "id": "-ASf8SA-FO80"
      },
      "source": [
        "This section completes the first phase of the project under the CRISP-DM methodology which focuses on understanding the overall business context and clearly identifying the challenge that needs to be solved  \n",
        "\n",
        "The reliability and usefulness of Zambian Wikipedia pages as a source of current information is at risk when articles are left without updates for long periods of time  \n",
        "Information that may have been accurate at one point becomes outdated over time and this makes it harder for readers to trust that the content reflects the present situation in Zambia  \n",
        "\n",
        "There is currently no clear or systematic way to highlight which pages have stale or outdated data  \n",
        "Because of this contributors especially Zambian Wikipedians often do not know where to direct their efforts resulting in random or uneven updates where some articles receive frequent edits while others are overlooked  \n",
        "\n",
        "This lack of focus reduces the overall quality of information about Zambia on Wikipedia and makes the platform less useful for researchers students and the general public who rely on it for accurate and up to date content  \n",
        "\n",
        "The next phases of this project following the CRISP-DM process will move into Data Understanding and Data Preparation  \n",
        "For this checkpoint the deliverables include adding this content to the Google Colab notebook and creating a corresponding section in the README.md file with at least one commit per team member properly tagged to document individual contributions  "
      ]
    },
    {
      "cell_type": "markdown",
      "metadata": {
        "id": "NRWilUrxipW6"
      },
      "source": [
        "# 2. Data Understanding"
      ]
    },
    {
      "cell_type": "code",
      "execution_count": null,
      "metadata": {
        "colab": {
          "base_uri": "https://localhost:8080/"
        },
        "id": "EvpPVQhzk88t",
        "outputId": "038301d5-b86f-4136-f0ed-6df2271af89c"
      },
      "outputs": [
        {
          "output_type": "stream",
          "name": "stdout",
          "text": [
            "Requirement already satisfied: pandas in /usr/local/lib/python3.12/dist-packages (2.2.2)\n",
            "Requirement already satisfied: matplotlib in /usr/local/lib/python3.12/dist-packages (3.10.0)\n",
            "Requirement already satisfied: numpy>=1.26.0 in /usr/local/lib/python3.12/dist-packages (from pandas) (2.0.2)\n",
            "Requirement already satisfied: python-dateutil>=2.8.2 in /usr/local/lib/python3.12/dist-packages (from pandas) (2.9.0.post0)\n",
            "Requirement already satisfied: pytz>=2020.1 in /usr/local/lib/python3.12/dist-packages (from pandas) (2025.2)\n",
            "Requirement already satisfied: tzdata>=2022.7 in /usr/local/lib/python3.12/dist-packages (from pandas) (2025.2)\n",
            "Requirement already satisfied: contourpy>=1.0.1 in /usr/local/lib/python3.12/dist-packages (from matplotlib) (1.3.3)\n",
            "Requirement already satisfied: cycler>=0.10 in /usr/local/lib/python3.12/dist-packages (from matplotlib) (0.12.1)\n",
            "Requirement already satisfied: fonttools>=4.22.0 in /usr/local/lib/python3.12/dist-packages (from matplotlib) (4.59.2)\n",
            "Requirement already satisfied: kiwisolver>=1.3.1 in /usr/local/lib/python3.12/dist-packages (from matplotlib) (1.4.9)\n",
            "Requirement already satisfied: packaging>=20.0 in /usr/local/lib/python3.12/dist-packages (from matplotlib) (25.0)\n",
            "Requirement already satisfied: pillow>=8 in /usr/local/lib/python3.12/dist-packages (from matplotlib) (11.3.0)\n",
            "Requirement already satisfied: pyparsing>=2.3.1 in /usr/local/lib/python3.12/dist-packages (from matplotlib) (3.2.3)\n",
            "Requirement already satisfied: six>=1.5 in /usr/local/lib/python3.12/dist-packages (from python-dateutil>=2.8.2->pandas) (1.17.0)\n"
          ]
        }
      ],
      "source": [
        "# installing the necessay packages\n",
        "\n",
        "!pip install pandas matplotlib"
      ]
    },
    {
      "cell_type": "code",
      "execution_count": null,
      "metadata": {
        "colab": {
          "base_uri": "https://localhost:8080/"
        },
        "id": "5sgnIw3AlegG",
        "outputId": "1a6d3474-0098-402c-e4f1-15b30e1aac7e"
      },
      "outputs": [
        {
          "output_type": "stream",
          "name": "stdout",
          "text": [
            "Mounted at /content/drive\n"
          ]
        }
      ],
      "source": [
        "# mount drive to colab\n",
        "\n",
        "from google.colab import drive\n",
        "drive.mount('/content/drive')"
      ]
    },
    {
      "cell_type": "code",
      "execution_count": null,
      "metadata": {
        "id": "VE7OauE7oSOQ"
      },
      "outputs": [],
      "source": [
        "# read the csv file containing the data set for our use case\n",
        "import pandas as pd\n",
        "\n",
        "recency_wiki_csv = pd.read_csv(\"/content/drive/MyDrive/CollabData/zambia_wikipedia_search.csv\")"
      ]
    },
    {
      "cell_type": "code",
      "execution_count": null,
      "metadata": {
        "colab": {
          "base_uri": "https://localhost:8080/"
        },
        "id": "rXYFnA8QqSx2",
        "outputId": "72dc1409-a81b-4d2e-8482-ce82d1196b85"
      },
      "outputs": [
        {
          "output_type": "execute_result",
          "data": {
            "text/plain": [
              "Index(['ns', 'title', 'pageid', 'size', 'wordcount', 'snippet', 'timestamp'], dtype='object')"
            ]
          },
          "metadata": {},
          "execution_count": 5
        }
      ],
      "source": [
        "recency_wiki_csv.columns"
      ]
    },
    {
      "cell_type": "code",
      "execution_count": null,
      "metadata": {
        "colab": {
          "base_uri": "https://localhost:8080/"
        },
        "id": "fIPuCiZlqYbk",
        "outputId": "44ddd979-ca0c-4373-d3be-c8a62d974cfa"
      },
      "outputs": [
        {
          "output_type": "stream",
          "name": "stdout",
          "text": [
            "<class 'pandas.core.frame.DataFrame'>\n",
            "RangeIndex: 500 entries, 0 to 499\n",
            "Data columns (total 7 columns):\n",
            " #   Column     Non-Null Count  Dtype \n",
            "---  ------     --------------  ----- \n",
            " 0   ns         500 non-null    int64 \n",
            " 1   title      500 non-null    object\n",
            " 2   pageid     500 non-null    int64 \n",
            " 3   size       500 non-null    int64 \n",
            " 4   wordcount  500 non-null    int64 \n",
            " 5   snippet    500 non-null    object\n",
            " 6   timestamp  500 non-null    object\n",
            "dtypes: int64(4), object(3)\n",
            "memory usage: 27.5+ KB\n"
          ]
        }
      ],
      "source": [
        "recency_wiki_csv.info()"
      ]
    },
    {
      "cell_type": "code",
      "execution_count": null,
      "metadata": {
        "colab": {
          "base_uri": "https://localhost:8080/",
          "height": 300
        },
        "id": "NGYvh2ObqfT8",
        "outputId": "0efad90e-97cc-461b-b9e3-5cee7e3cec9d"
      },
      "outputs": [
        {
          "output_type": "execute_result",
          "data": {
            "text/plain": [
              "          ns        pageid           size     wordcount\n",
              "count  500.0  5.000000e+02     500.000000    500.000000\n",
              "mean     0.0  3.289466e+07   14852.682000   1157.430000\n",
              "std      0.0  2.756898e+07   19735.161518   1696.137922\n",
              "min      0.0  7.080000e+02     244.000000     14.000000\n",
              "25%      0.0  4.667468e+06    4024.500000    226.750000\n",
              "50%      0.0  2.861557e+07    8822.500000    612.500000\n",
              "75%      0.0  5.908866e+07   18043.000000   1351.750000\n",
              "max      0.0  8.071573e+07  235161.000000  16058.000000"
            ],
            "text/html": [
              "\n",
              "  <div id=\"df-2ee9b5af-f6e3-4ac6-9b35-0cf090789f79\" class=\"colab-df-container\">\n",
              "    <div>\n",
              "<style scoped>\n",
              "    .dataframe tbody tr th:only-of-type {\n",
              "        vertical-align: middle;\n",
              "    }\n",
              "\n",
              "    .dataframe tbody tr th {\n",
              "        vertical-align: top;\n",
              "    }\n",
              "\n",
              "    .dataframe thead th {\n",
              "        text-align: right;\n",
              "    }\n",
              "</style>\n",
              "<table border=\"1\" class=\"dataframe\">\n",
              "  <thead>\n",
              "    <tr style=\"text-align: right;\">\n",
              "      <th></th>\n",
              "      <th>ns</th>\n",
              "      <th>pageid</th>\n",
              "      <th>size</th>\n",
              "      <th>wordcount</th>\n",
              "    </tr>\n",
              "  </thead>\n",
              "  <tbody>\n",
              "    <tr>\n",
              "      <th>count</th>\n",
              "      <td>500.0</td>\n",
              "      <td>5.000000e+02</td>\n",
              "      <td>500.000000</td>\n",
              "      <td>500.000000</td>\n",
              "    </tr>\n",
              "    <tr>\n",
              "      <th>mean</th>\n",
              "      <td>0.0</td>\n",
              "      <td>3.289466e+07</td>\n",
              "      <td>14852.682000</td>\n",
              "      <td>1157.430000</td>\n",
              "    </tr>\n",
              "    <tr>\n",
              "      <th>std</th>\n",
              "      <td>0.0</td>\n",
              "      <td>2.756898e+07</td>\n",
              "      <td>19735.161518</td>\n",
              "      <td>1696.137922</td>\n",
              "    </tr>\n",
              "    <tr>\n",
              "      <th>min</th>\n",
              "      <td>0.0</td>\n",
              "      <td>7.080000e+02</td>\n",
              "      <td>244.000000</td>\n",
              "      <td>14.000000</td>\n",
              "    </tr>\n",
              "    <tr>\n",
              "      <th>25%</th>\n",
              "      <td>0.0</td>\n",
              "      <td>4.667468e+06</td>\n",
              "      <td>4024.500000</td>\n",
              "      <td>226.750000</td>\n",
              "    </tr>\n",
              "    <tr>\n",
              "      <th>50%</th>\n",
              "      <td>0.0</td>\n",
              "      <td>2.861557e+07</td>\n",
              "      <td>8822.500000</td>\n",
              "      <td>612.500000</td>\n",
              "    </tr>\n",
              "    <tr>\n",
              "      <th>75%</th>\n",
              "      <td>0.0</td>\n",
              "      <td>5.908866e+07</td>\n",
              "      <td>18043.000000</td>\n",
              "      <td>1351.750000</td>\n",
              "    </tr>\n",
              "    <tr>\n",
              "      <th>max</th>\n",
              "      <td>0.0</td>\n",
              "      <td>8.071573e+07</td>\n",
              "      <td>235161.000000</td>\n",
              "      <td>16058.000000</td>\n",
              "    </tr>\n",
              "  </tbody>\n",
              "</table>\n",
              "</div>\n",
              "    <div class=\"colab-df-buttons\">\n",
              "\n",
              "  <div class=\"colab-df-container\">\n",
              "    <button class=\"colab-df-convert\" onclick=\"convertToInteractive('df-2ee9b5af-f6e3-4ac6-9b35-0cf090789f79')\"\n",
              "            title=\"Convert this dataframe to an interactive table.\"\n",
              "            style=\"display:none;\">\n",
              "\n",
              "  <svg xmlns=\"http://www.w3.org/2000/svg\" height=\"24px\" viewBox=\"0 -960 960 960\">\n",
              "    <path d=\"M120-120v-720h720v720H120Zm60-500h600v-160H180v160Zm220 220h160v-160H400v160Zm0 220h160v-160H400v160ZM180-400h160v-160H180v160Zm440 0h160v-160H620v160ZM180-180h160v-160H180v160Zm440 0h160v-160H620v160Z\"/>\n",
              "  </svg>\n",
              "    </button>\n",
              "\n",
              "  <style>\n",
              "    .colab-df-container {\n",
              "      display:flex;\n",
              "      gap: 12px;\n",
              "    }\n",
              "\n",
              "    .colab-df-convert {\n",
              "      background-color: #E8F0FE;\n",
              "      border: none;\n",
              "      border-radius: 50%;\n",
              "      cursor: pointer;\n",
              "      display: none;\n",
              "      fill: #1967D2;\n",
              "      height: 32px;\n",
              "      padding: 0 0 0 0;\n",
              "      width: 32px;\n",
              "    }\n",
              "\n",
              "    .colab-df-convert:hover {\n",
              "      background-color: #E2EBFA;\n",
              "      box-shadow: 0px 1px 2px rgba(60, 64, 67, 0.3), 0px 1px 3px 1px rgba(60, 64, 67, 0.15);\n",
              "      fill: #174EA6;\n",
              "    }\n",
              "\n",
              "    .colab-df-buttons div {\n",
              "      margin-bottom: 4px;\n",
              "    }\n",
              "\n",
              "    [theme=dark] .colab-df-convert {\n",
              "      background-color: #3B4455;\n",
              "      fill: #D2E3FC;\n",
              "    }\n",
              "\n",
              "    [theme=dark] .colab-df-convert:hover {\n",
              "      background-color: #434B5C;\n",
              "      box-shadow: 0px 1px 3px 1px rgba(0, 0, 0, 0.15);\n",
              "      filter: drop-shadow(0px 1px 2px rgba(0, 0, 0, 0.3));\n",
              "      fill: #FFFFFF;\n",
              "    }\n",
              "  </style>\n",
              "\n",
              "    <script>\n",
              "      const buttonEl =\n",
              "        document.querySelector('#df-2ee9b5af-f6e3-4ac6-9b35-0cf090789f79 button.colab-df-convert');\n",
              "      buttonEl.style.display =\n",
              "        google.colab.kernel.accessAllowed ? 'block' : 'none';\n",
              "\n",
              "      async function convertToInteractive(key) {\n",
              "        const element = document.querySelector('#df-2ee9b5af-f6e3-4ac6-9b35-0cf090789f79');\n",
              "        const dataTable =\n",
              "          await google.colab.kernel.invokeFunction('convertToInteractive',\n",
              "                                                    [key], {});\n",
              "        if (!dataTable) return;\n",
              "\n",
              "        const docLinkHtml = 'Like what you see? Visit the ' +\n",
              "          '<a target=\"_blank\" href=https://colab.research.google.com/notebooks/data_table.ipynb>data table notebook</a>'\n",
              "          + ' to learn more about interactive tables.';\n",
              "        element.innerHTML = '';\n",
              "        dataTable['output_type'] = 'display_data';\n",
              "        await google.colab.output.renderOutput(dataTable, element);\n",
              "        const docLink = document.createElement('div');\n",
              "        docLink.innerHTML = docLinkHtml;\n",
              "        element.appendChild(docLink);\n",
              "      }\n",
              "    </script>\n",
              "  </div>\n",
              "\n",
              "\n",
              "    <div id=\"df-24173ec1-54d4-40cb-8ac7-147d14fcd905\">\n",
              "      <button class=\"colab-df-quickchart\" onclick=\"quickchart('df-24173ec1-54d4-40cb-8ac7-147d14fcd905')\"\n",
              "                title=\"Suggest charts\"\n",
              "                style=\"display:none;\">\n",
              "\n",
              "<svg xmlns=\"http://www.w3.org/2000/svg\" height=\"24px\"viewBox=\"0 0 24 24\"\n",
              "     width=\"24px\">\n",
              "    <g>\n",
              "        <path d=\"M19 3H5c-1.1 0-2 .9-2 2v14c0 1.1.9 2 2 2h14c1.1 0 2-.9 2-2V5c0-1.1-.9-2-2-2zM9 17H7v-7h2v7zm4 0h-2V7h2v10zm4 0h-2v-4h2v4z\"/>\n",
              "    </g>\n",
              "</svg>\n",
              "      </button>\n",
              "\n",
              "<style>\n",
              "  .colab-df-quickchart {\n",
              "      --bg-color: #E8F0FE;\n",
              "      --fill-color: #1967D2;\n",
              "      --hover-bg-color: #E2EBFA;\n",
              "      --hover-fill-color: #174EA6;\n",
              "      --disabled-fill-color: #AAA;\n",
              "      --disabled-bg-color: #DDD;\n",
              "  }\n",
              "\n",
              "  [theme=dark] .colab-df-quickchart {\n",
              "      --bg-color: #3B4455;\n",
              "      --fill-color: #D2E3FC;\n",
              "      --hover-bg-color: #434B5C;\n",
              "      --hover-fill-color: #FFFFFF;\n",
              "      --disabled-bg-color: #3B4455;\n",
              "      --disabled-fill-color: #666;\n",
              "  }\n",
              "\n",
              "  .colab-df-quickchart {\n",
              "    background-color: var(--bg-color);\n",
              "    border: none;\n",
              "    border-radius: 50%;\n",
              "    cursor: pointer;\n",
              "    display: none;\n",
              "    fill: var(--fill-color);\n",
              "    height: 32px;\n",
              "    padding: 0;\n",
              "    width: 32px;\n",
              "  }\n",
              "\n",
              "  .colab-df-quickchart:hover {\n",
              "    background-color: var(--hover-bg-color);\n",
              "    box-shadow: 0 1px 2px rgba(60, 64, 67, 0.3), 0 1px 3px 1px rgba(60, 64, 67, 0.15);\n",
              "    fill: var(--button-hover-fill-color);\n",
              "  }\n",
              "\n",
              "  .colab-df-quickchart-complete:disabled,\n",
              "  .colab-df-quickchart-complete:disabled:hover {\n",
              "    background-color: var(--disabled-bg-color);\n",
              "    fill: var(--disabled-fill-color);\n",
              "    box-shadow: none;\n",
              "  }\n",
              "\n",
              "  .colab-df-spinner {\n",
              "    border: 2px solid var(--fill-color);\n",
              "    border-color: transparent;\n",
              "    border-bottom-color: var(--fill-color);\n",
              "    animation:\n",
              "      spin 1s steps(1) infinite;\n",
              "  }\n",
              "\n",
              "  @keyframes spin {\n",
              "    0% {\n",
              "      border-color: transparent;\n",
              "      border-bottom-color: var(--fill-color);\n",
              "      border-left-color: var(--fill-color);\n",
              "    }\n",
              "    20% {\n",
              "      border-color: transparent;\n",
              "      border-left-color: var(--fill-color);\n",
              "      border-top-color: var(--fill-color);\n",
              "    }\n",
              "    30% {\n",
              "      border-color: transparent;\n",
              "      border-left-color: var(--fill-color);\n",
              "      border-top-color: var(--fill-color);\n",
              "      border-right-color: var(--fill-color);\n",
              "    }\n",
              "    40% {\n",
              "      border-color: transparent;\n",
              "      border-right-color: var(--fill-color);\n",
              "      border-top-color: var(--fill-color);\n",
              "    }\n",
              "    60% {\n",
              "      border-color: transparent;\n",
              "      border-right-color: var(--fill-color);\n",
              "    }\n",
              "    80% {\n",
              "      border-color: transparent;\n",
              "      border-right-color: var(--fill-color);\n",
              "      border-bottom-color: var(--fill-color);\n",
              "    }\n",
              "    90% {\n",
              "      border-color: transparent;\n",
              "      border-bottom-color: var(--fill-color);\n",
              "    }\n",
              "  }\n",
              "</style>\n",
              "\n",
              "      <script>\n",
              "        async function quickchart(key) {\n",
              "          const quickchartButtonEl =\n",
              "            document.querySelector('#' + key + ' button');\n",
              "          quickchartButtonEl.disabled = true;  // To prevent multiple clicks.\n",
              "          quickchartButtonEl.classList.add('colab-df-spinner');\n",
              "          try {\n",
              "            const charts = await google.colab.kernel.invokeFunction(\n",
              "                'suggestCharts', [key], {});\n",
              "          } catch (error) {\n",
              "            console.error('Error during call to suggestCharts:', error);\n",
              "          }\n",
              "          quickchartButtonEl.classList.remove('colab-df-spinner');\n",
              "          quickchartButtonEl.classList.add('colab-df-quickchart-complete');\n",
              "        }\n",
              "        (() => {\n",
              "          let quickchartButtonEl =\n",
              "            document.querySelector('#df-24173ec1-54d4-40cb-8ac7-147d14fcd905 button');\n",
              "          quickchartButtonEl.style.display =\n",
              "            google.colab.kernel.accessAllowed ? 'block' : 'none';\n",
              "        })();\n",
              "      </script>\n",
              "    </div>\n",
              "\n",
              "    </div>\n",
              "  </div>\n"
            ],
            "application/vnd.google.colaboratory.intrinsic+json": {
              "type": "dataframe",
              "summary": "{\n  \"name\": \"recency_wiki_csv\",\n  \"rows\": 8,\n  \"fields\": [\n    {\n      \"column\": \"ns\",\n      \"properties\": {\n        \"dtype\": \"number\",\n        \"std\": 176.7766952966369,\n        \"min\": 0.0,\n        \"max\": 500.0,\n        \"num_unique_values\": 2,\n        \"samples\": [\n          0.0,\n          500.0\n        ],\n        \"semantic_type\": \"\",\n        \"description\": \"\"\n      }\n    },\n    {\n      \"column\": \"pageid\",\n      \"properties\": {\n        \"dtype\": \"number\",\n        \"std\": 28960339.740035314,\n        \"min\": 500.0,\n        \"max\": 80715728.0,\n        \"num_unique_values\": 8,\n        \"samples\": [\n          32894664.938,\n          28615568.0\n        ],\n        \"semantic_type\": \"\",\n        \"description\": \"\"\n      }\n    },\n    {\n      \"column\": \"size\",\n      \"properties\": {\n        \"dtype\": \"number\",\n        \"std\": 80157.6258553503,\n        \"min\": 244.0,\n        \"max\": 235161.0,\n        \"num_unique_values\": 8,\n        \"samples\": [\n          14852.682,\n          8822.5\n        ],\n        \"semantic_type\": \"\",\n        \"description\": \"\"\n      }\n    },\n    {\n      \"column\": \"wordcount\",\n      \"properties\": {\n        \"dtype\": \"number\",\n        \"std\": 5427.053750036801,\n        \"min\": 14.0,\n        \"max\": 16058.0,\n        \"num_unique_values\": 8,\n        \"samples\": [\n          1157.43,\n          612.5\n        ],\n        \"semantic_type\": \"\",\n        \"description\": \"\"\n      }\n    }\n  ]\n}"
            }
          },
          "metadata": {},
          "execution_count": 7
        }
      ],
      "source": [
        "recency_wiki_csv.describe()"
      ]
    },
    {
      "cell_type": "code",
      "execution_count": null,
      "metadata": {
        "colab": {
          "base_uri": "https://localhost:8080/"
        },
        "id": "t6Z7tNEfqkLx",
        "outputId": "eba040ae-be52-493f-b231-a03a87c16241"
      },
      "outputs": [
        {
          "output_type": "execute_result",
          "data": {
            "text/plain": [
              "(500, 7)"
            ]
          },
          "metadata": {},
          "execution_count": 8
        }
      ],
      "source": [
        "recency_wiki_csv.shape"
      ]
    },
    {
      "cell_type": "code",
      "execution_count": null,
      "metadata": {
        "colab": {
          "base_uri": "https://localhost:8080/",
          "height": 269
        },
        "id": "t29bzFk9qoYH",
        "outputId": "7b0ecc64-03ed-4f03-f109-e7e3bf265f9d"
      },
      "outputs": [
        {
          "output_type": "execute_result",
          "data": {
            "text/plain": [
              "                                                           0\n",
              "ns                                                         0\n",
              "title                                                 Zambia\n",
              "pageid                                                 34415\n",
              "size                                                  151954\n",
              "wordcount                                              14712\n",
              "snippet    <span class=\"searchmatch\">Zambia</span>, offic...\n",
              "timestamp                               2025-08-13T06:32:53Z"
            ],
            "text/html": [
              "\n",
              "  <div id=\"df-79810a64-617c-46da-b7ed-e123069e50f8\" class=\"colab-df-container\">\n",
              "    <div>\n",
              "<style scoped>\n",
              "    .dataframe tbody tr th:only-of-type {\n",
              "        vertical-align: middle;\n",
              "    }\n",
              "\n",
              "    .dataframe tbody tr th {\n",
              "        vertical-align: top;\n",
              "    }\n",
              "\n",
              "    .dataframe thead th {\n",
              "        text-align: right;\n",
              "    }\n",
              "</style>\n",
              "<table border=\"1\" class=\"dataframe\">\n",
              "  <thead>\n",
              "    <tr style=\"text-align: right;\">\n",
              "      <th></th>\n",
              "      <th>0</th>\n",
              "    </tr>\n",
              "  </thead>\n",
              "  <tbody>\n",
              "    <tr>\n",
              "      <th>ns</th>\n",
              "      <td>0</td>\n",
              "    </tr>\n",
              "    <tr>\n",
              "      <th>title</th>\n",
              "      <td>Zambia</td>\n",
              "    </tr>\n",
              "    <tr>\n",
              "      <th>pageid</th>\n",
              "      <td>34415</td>\n",
              "    </tr>\n",
              "    <tr>\n",
              "      <th>size</th>\n",
              "      <td>151954</td>\n",
              "    </tr>\n",
              "    <tr>\n",
              "      <th>wordcount</th>\n",
              "      <td>14712</td>\n",
              "    </tr>\n",
              "    <tr>\n",
              "      <th>snippet</th>\n",
              "      <td>&lt;span class=\"searchmatch\"&gt;Zambia&lt;/span&gt;, offic...</td>\n",
              "    </tr>\n",
              "    <tr>\n",
              "      <th>timestamp</th>\n",
              "      <td>2025-08-13T06:32:53Z</td>\n",
              "    </tr>\n",
              "  </tbody>\n",
              "</table>\n",
              "</div>\n",
              "    <div class=\"colab-df-buttons\">\n",
              "\n",
              "  <div class=\"colab-df-container\">\n",
              "    <button class=\"colab-df-convert\" onclick=\"convertToInteractive('df-79810a64-617c-46da-b7ed-e123069e50f8')\"\n",
              "            title=\"Convert this dataframe to an interactive table.\"\n",
              "            style=\"display:none;\">\n",
              "\n",
              "  <svg xmlns=\"http://www.w3.org/2000/svg\" height=\"24px\" viewBox=\"0 -960 960 960\">\n",
              "    <path d=\"M120-120v-720h720v720H120Zm60-500h600v-160H180v160Zm220 220h160v-160H400v160Zm0 220h160v-160H400v160ZM180-400h160v-160H180v160Zm440 0h160v-160H620v160ZM180-180h160v-160H180v160Zm440 0h160v-160H620v160Z\"/>\n",
              "  </svg>\n",
              "    </button>\n",
              "\n",
              "  <style>\n",
              "    .colab-df-container {\n",
              "      display:flex;\n",
              "      gap: 12px;\n",
              "    }\n",
              "\n",
              "    .colab-df-convert {\n",
              "      background-color: #E8F0FE;\n",
              "      border: none;\n",
              "      border-radius: 50%;\n",
              "      cursor: pointer;\n",
              "      display: none;\n",
              "      fill: #1967D2;\n",
              "      height: 32px;\n",
              "      padding: 0 0 0 0;\n",
              "      width: 32px;\n",
              "    }\n",
              "\n",
              "    .colab-df-convert:hover {\n",
              "      background-color: #E2EBFA;\n",
              "      box-shadow: 0px 1px 2px rgba(60, 64, 67, 0.3), 0px 1px 3px 1px rgba(60, 64, 67, 0.15);\n",
              "      fill: #174EA6;\n",
              "    }\n",
              "\n",
              "    .colab-df-buttons div {\n",
              "      margin-bottom: 4px;\n",
              "    }\n",
              "\n",
              "    [theme=dark] .colab-df-convert {\n",
              "      background-color: #3B4455;\n",
              "      fill: #D2E3FC;\n",
              "    }\n",
              "\n",
              "    [theme=dark] .colab-df-convert:hover {\n",
              "      background-color: #434B5C;\n",
              "      box-shadow: 0px 1px 3px 1px rgba(0, 0, 0, 0.15);\n",
              "      filter: drop-shadow(0px 1px 2px rgba(0, 0, 0, 0.3));\n",
              "      fill: #FFFFFF;\n",
              "    }\n",
              "  </style>\n",
              "\n",
              "    <script>\n",
              "      const buttonEl =\n",
              "        document.querySelector('#df-79810a64-617c-46da-b7ed-e123069e50f8 button.colab-df-convert');\n",
              "      buttonEl.style.display =\n",
              "        google.colab.kernel.accessAllowed ? 'block' : 'none';\n",
              "\n",
              "      async function convertToInteractive(key) {\n",
              "        const element = document.querySelector('#df-79810a64-617c-46da-b7ed-e123069e50f8');\n",
              "        const dataTable =\n",
              "          await google.colab.kernel.invokeFunction('convertToInteractive',\n",
              "                                                    [key], {});\n",
              "        if (!dataTable) return;\n",
              "\n",
              "        const docLinkHtml = 'Like what you see? Visit the ' +\n",
              "          '<a target=\"_blank\" href=https://colab.research.google.com/notebooks/data_table.ipynb>data table notebook</a>'\n",
              "          + ' to learn more about interactive tables.';\n",
              "        element.innerHTML = '';\n",
              "        dataTable['output_type'] = 'display_data';\n",
              "        await google.colab.output.renderOutput(dataTable, element);\n",
              "        const docLink = document.createElement('div');\n",
              "        docLink.innerHTML = docLinkHtml;\n",
              "        element.appendChild(docLink);\n",
              "      }\n",
              "    </script>\n",
              "  </div>\n",
              "\n",
              "\n",
              "    <div id=\"df-1f6645ff-fc42-4f7c-bdcd-d75ad08a698b\">\n",
              "      <button class=\"colab-df-quickchart\" onclick=\"quickchart('df-1f6645ff-fc42-4f7c-bdcd-d75ad08a698b')\"\n",
              "                title=\"Suggest charts\"\n",
              "                style=\"display:none;\">\n",
              "\n",
              "<svg xmlns=\"http://www.w3.org/2000/svg\" height=\"24px\"viewBox=\"0 0 24 24\"\n",
              "     width=\"24px\">\n",
              "    <g>\n",
              "        <path d=\"M19 3H5c-1.1 0-2 .9-2 2v14c0 1.1.9 2 2 2h14c1.1 0 2-.9 2-2V5c0-1.1-.9-2-2-2zM9 17H7v-7h2v7zm4 0h-2V7h2v10zm4 0h-2v-4h2v4z\"/>\n",
              "    </g>\n",
              "</svg>\n",
              "      </button>\n",
              "\n",
              "<style>\n",
              "  .colab-df-quickchart {\n",
              "      --bg-color: #E8F0FE;\n",
              "      --fill-color: #1967D2;\n",
              "      --hover-bg-color: #E2EBFA;\n",
              "      --hover-fill-color: #174EA6;\n",
              "      --disabled-fill-color: #AAA;\n",
              "      --disabled-bg-color: #DDD;\n",
              "  }\n",
              "\n",
              "  [theme=dark] .colab-df-quickchart {\n",
              "      --bg-color: #3B4455;\n",
              "      --fill-color: #D2E3FC;\n",
              "      --hover-bg-color: #434B5C;\n",
              "      --hover-fill-color: #FFFFFF;\n",
              "      --disabled-bg-color: #3B4455;\n",
              "      --disabled-fill-color: #666;\n",
              "  }\n",
              "\n",
              "  .colab-df-quickchart {\n",
              "    background-color: var(--bg-color);\n",
              "    border: none;\n",
              "    border-radius: 50%;\n",
              "    cursor: pointer;\n",
              "    display: none;\n",
              "    fill: var(--fill-color);\n",
              "    height: 32px;\n",
              "    padding: 0;\n",
              "    width: 32px;\n",
              "  }\n",
              "\n",
              "  .colab-df-quickchart:hover {\n",
              "    background-color: var(--hover-bg-color);\n",
              "    box-shadow: 0 1px 2px rgba(60, 64, 67, 0.3), 0 1px 3px 1px rgba(60, 64, 67, 0.15);\n",
              "    fill: var(--button-hover-fill-color);\n",
              "  }\n",
              "\n",
              "  .colab-df-quickchart-complete:disabled,\n",
              "  .colab-df-quickchart-complete:disabled:hover {\n",
              "    background-color: var(--disabled-bg-color);\n",
              "    fill: var(--disabled-fill-color);\n",
              "    box-shadow: none;\n",
              "  }\n",
              "\n",
              "  .colab-df-spinner {\n",
              "    border: 2px solid var(--fill-color);\n",
              "    border-color: transparent;\n",
              "    border-bottom-color: var(--fill-color);\n",
              "    animation:\n",
              "      spin 1s steps(1) infinite;\n",
              "  }\n",
              "\n",
              "  @keyframes spin {\n",
              "    0% {\n",
              "      border-color: transparent;\n",
              "      border-bottom-color: var(--fill-color);\n",
              "      border-left-color: var(--fill-color);\n",
              "    }\n",
              "    20% {\n",
              "      border-color: transparent;\n",
              "      border-left-color: var(--fill-color);\n",
              "      border-top-color: var(--fill-color);\n",
              "    }\n",
              "    30% {\n",
              "      border-color: transparent;\n",
              "      border-left-color: var(--fill-color);\n",
              "      border-top-color: var(--fill-color);\n",
              "      border-right-color: var(--fill-color);\n",
              "    }\n",
              "    40% {\n",
              "      border-color: transparent;\n",
              "      border-right-color: var(--fill-color);\n",
              "      border-top-color: var(--fill-color);\n",
              "    }\n",
              "    60% {\n",
              "      border-color: transparent;\n",
              "      border-right-color: var(--fill-color);\n",
              "    }\n",
              "    80% {\n",
              "      border-color: transparent;\n",
              "      border-right-color: var(--fill-color);\n",
              "      border-bottom-color: var(--fill-color);\n",
              "    }\n",
              "    90% {\n",
              "      border-color: transparent;\n",
              "      border-bottom-color: var(--fill-color);\n",
              "    }\n",
              "  }\n",
              "</style>\n",
              "\n",
              "      <script>\n",
              "        async function quickchart(key) {\n",
              "          const quickchartButtonEl =\n",
              "            document.querySelector('#' + key + ' button');\n",
              "          quickchartButtonEl.disabled = true;  // To prevent multiple clicks.\n",
              "          quickchartButtonEl.classList.add('colab-df-spinner');\n",
              "          try {\n",
              "            const charts = await google.colab.kernel.invokeFunction(\n",
              "                'suggestCharts', [key], {});\n",
              "          } catch (error) {\n",
              "            console.error('Error during call to suggestCharts:', error);\n",
              "          }\n",
              "          quickchartButtonEl.classList.remove('colab-df-spinner');\n",
              "          quickchartButtonEl.classList.add('colab-df-quickchart-complete');\n",
              "        }\n",
              "        (() => {\n",
              "          let quickchartButtonEl =\n",
              "            document.querySelector('#df-1f6645ff-fc42-4f7c-bdcd-d75ad08a698b button');\n",
              "          quickchartButtonEl.style.display =\n",
              "            google.colab.kernel.accessAllowed ? 'block' : 'none';\n",
              "        })();\n",
              "      </script>\n",
              "    </div>\n",
              "\n",
              "    </div>\n",
              "  </div>\n"
            ],
            "application/vnd.google.colaboratory.intrinsic+json": {
              "type": "dataframe",
              "variable_name": "recency_wiki_csv",
              "summary": "{\n  \"name\": \"recency_wiki_csv\",\n  \"rows\": 500,\n  \"fields\": [\n    {\n      \"column\": \"ns\",\n      \"properties\": {\n        \"dtype\": \"number\",\n        \"std\": 0,\n        \"min\": 0,\n        \"max\": 0,\n        \"num_unique_values\": 1,\n        \"samples\": [\n          0\n        ],\n        \"semantic_type\": \"\",\n        \"description\": \"\"\n      }\n    },\n    {\n      \"column\": \"title\",\n      \"properties\": {\n        \"dtype\": \"string\",\n        \"num_unique_values\": 500,\n        \"samples\": [\n          \"Kelvin Kapumbu\"\n        ],\n        \"semantic_type\": \"\",\n        \"description\": \"\"\n      }\n    },\n    {\n      \"column\": \"pageid\",\n      \"properties\": {\n        \"dtype\": \"number\",\n        \"std\": 27568980,\n        \"min\": 708,\n        \"max\": 80715728,\n        \"num_unique_values\": 500,\n        \"samples\": [\n          75767809\n        ],\n        \"semantic_type\": \"\",\n        \"description\": \"\"\n      }\n    },\n    {\n      \"column\": \"size\",\n      \"properties\": {\n        \"dtype\": \"number\",\n        \"std\": 19735,\n        \"min\": 244,\n        \"max\": 235161,\n        \"num_unique_values\": 495,\n        \"samples\": [\n          1449\n        ],\n        \"semantic_type\": \"\",\n        \"description\": \"\"\n      }\n    },\n    {\n      \"column\": \"wordcount\",\n      \"properties\": {\n        \"dtype\": \"number\",\n        \"std\": 1696,\n        \"min\": 14,\n        \"max\": 16058,\n        \"num_unique_values\": 451,\n        \"samples\": [\n          1237\n        ],\n        \"semantic_type\": \"\",\n        \"description\": \"\"\n      }\n    },\n    {\n      \"column\": \"snippet\",\n      \"properties\": {\n        \"dtype\": \"string\",\n        \"num_unique_values\": 500,\n        \"samples\": [\n          \"(born 6 April 1996) is a <span class=\\\"searchmatch\\\">Zambian</span> professional footballer who plays as a defensive midfielder for Hapoel Petah Tikva and the <span class=\\\"searchmatch\\\">Zambia</span> national team. Kapumbu\"\n        ],\n        \"semantic_type\": \"\",\n        \"description\": \"\"\n      }\n    },\n    {\n      \"column\": \"timestamp\",\n      \"properties\": {\n        \"dtype\": \"object\",\n        \"num_unique_values\": 497,\n        \"samples\": [\n          \"2025-03-07T21:19:33Z\"\n        ],\n        \"semantic_type\": \"\",\n        \"description\": \"\"\n      }\n    }\n  ]\n}"
            }
          },
          "metadata": {},
          "execution_count": 9
        }
      ],
      "source": [
        "recency_wiki_csv.head(1).T"
      ]
    },
    {
      "cell_type": "code",
      "execution_count": null,
      "metadata": {
        "colab": {
          "base_uri": "https://localhost:8080/",
          "height": 303
        },
        "id": "efaeLJeZquRv",
        "outputId": "e7f975bf-e161-4dee-b2f4-05e363f48d27"
      },
      "outputs": [
        {
          "output_type": "execute_result",
          "data": {
            "text/plain": [
              "                                                         495  \\\n",
              "ns                                                         0   \n",
              "title               Church of the Province of Central Africa   \n",
              "pageid                                               6298351   \n",
              "size                                                   14288   \n",
              "wordcount                                               1240   \n",
              "snippet    of the Anglican Communion, and includes 15 dio...   \n",
              "timestamp                               2025-06-17T13:50:26Z   \n",
              "\n",
              "                                                         496  \\\n",
              "ns                                                         0   \n",
              "title                                      Maureen Mwanawasa   \n",
              "pageid                                              19156863   \n",
              "size                                                    9551   \n",
              "wordcount                                                950   \n",
              "snippet    Maureen Mwanawasa (née Kakubo; 28 April 1963 –...   \n",
              "timestamp                               2025-08-14T14:24:01Z   \n",
              "\n",
              "                                                         497  \\\n",
              "ns                                                         0   \n",
              "title                       List of power stations in Zambia   \n",
              "pageid                                              25778283   \n",
              "size                                                   10095   \n",
              "wordcount                                                430   \n",
              "snippet    <span class=\"searchmatch\">Zambia</span> has fi...   \n",
              "timestamp                               2025-07-05T00:51:51Z   \n",
              "\n",
              "                                                         498  \\\n",
              "ns                                                         0   \n",
              "title                           Order of the Eagle of Zambia   \n",
              "pageid                                              43721376   \n",
              "size                                                    1068   \n",
              "wordcount                                                 55   \n",
              "snippet    The Order of the Eagle of <span class=\"searchm...   \n",
              "timestamp                               2025-01-06T15:13:56Z   \n",
              "\n",
              "                                                         499  \n",
              "ns                                                         0  \n",
              "title                                             COSAFA Cup  \n",
              "pageid                                               3776132  \n",
              "size                                                   28045  \n",
              "wordcount                                                433  \n",
              "snippet    Tanzania, Uganda and Senegal. <span class=\"sea...  \n",
              "timestamp                               2025-08-11T21:59:14Z  "
            ],
            "text/html": [
              "\n",
              "  <div id=\"df-2776e4a7-931c-4d87-ade9-bca255e75c24\" class=\"colab-df-container\">\n",
              "    <div>\n",
              "<style scoped>\n",
              "    .dataframe tbody tr th:only-of-type {\n",
              "        vertical-align: middle;\n",
              "    }\n",
              "\n",
              "    .dataframe tbody tr th {\n",
              "        vertical-align: top;\n",
              "    }\n",
              "\n",
              "    .dataframe thead th {\n",
              "        text-align: right;\n",
              "    }\n",
              "</style>\n",
              "<table border=\"1\" class=\"dataframe\">\n",
              "  <thead>\n",
              "    <tr style=\"text-align: right;\">\n",
              "      <th></th>\n",
              "      <th>495</th>\n",
              "      <th>496</th>\n",
              "      <th>497</th>\n",
              "      <th>498</th>\n",
              "      <th>499</th>\n",
              "    </tr>\n",
              "  </thead>\n",
              "  <tbody>\n",
              "    <tr>\n",
              "      <th>ns</th>\n",
              "      <td>0</td>\n",
              "      <td>0</td>\n",
              "      <td>0</td>\n",
              "      <td>0</td>\n",
              "      <td>0</td>\n",
              "    </tr>\n",
              "    <tr>\n",
              "      <th>title</th>\n",
              "      <td>Church of the Province of Central Africa</td>\n",
              "      <td>Maureen Mwanawasa</td>\n",
              "      <td>List of power stations in Zambia</td>\n",
              "      <td>Order of the Eagle of Zambia</td>\n",
              "      <td>COSAFA Cup</td>\n",
              "    </tr>\n",
              "    <tr>\n",
              "      <th>pageid</th>\n",
              "      <td>6298351</td>\n",
              "      <td>19156863</td>\n",
              "      <td>25778283</td>\n",
              "      <td>43721376</td>\n",
              "      <td>3776132</td>\n",
              "    </tr>\n",
              "    <tr>\n",
              "      <th>size</th>\n",
              "      <td>14288</td>\n",
              "      <td>9551</td>\n",
              "      <td>10095</td>\n",
              "      <td>1068</td>\n",
              "      <td>28045</td>\n",
              "    </tr>\n",
              "    <tr>\n",
              "      <th>wordcount</th>\n",
              "      <td>1240</td>\n",
              "      <td>950</td>\n",
              "      <td>430</td>\n",
              "      <td>55</td>\n",
              "      <td>433</td>\n",
              "    </tr>\n",
              "    <tr>\n",
              "      <th>snippet</th>\n",
              "      <td>of the Anglican Communion, and includes 15 dio...</td>\n",
              "      <td>Maureen Mwanawasa (née Kakubo; 28 April 1963 –...</td>\n",
              "      <td>&lt;span class=\"searchmatch\"&gt;Zambia&lt;/span&gt; has fi...</td>\n",
              "      <td>The Order of the Eagle of &lt;span class=\"searchm...</td>\n",
              "      <td>Tanzania, Uganda and Senegal. &lt;span class=\"sea...</td>\n",
              "    </tr>\n",
              "    <tr>\n",
              "      <th>timestamp</th>\n",
              "      <td>2025-06-17T13:50:26Z</td>\n",
              "      <td>2025-08-14T14:24:01Z</td>\n",
              "      <td>2025-07-05T00:51:51Z</td>\n",
              "      <td>2025-01-06T15:13:56Z</td>\n",
              "      <td>2025-08-11T21:59:14Z</td>\n",
              "    </tr>\n",
              "  </tbody>\n",
              "</table>\n",
              "</div>\n",
              "    <div class=\"colab-df-buttons\">\n",
              "\n",
              "  <div class=\"colab-df-container\">\n",
              "    <button class=\"colab-df-convert\" onclick=\"convertToInteractive('df-2776e4a7-931c-4d87-ade9-bca255e75c24')\"\n",
              "            title=\"Convert this dataframe to an interactive table.\"\n",
              "            style=\"display:none;\">\n",
              "\n",
              "  <svg xmlns=\"http://www.w3.org/2000/svg\" height=\"24px\" viewBox=\"0 -960 960 960\">\n",
              "    <path d=\"M120-120v-720h720v720H120Zm60-500h600v-160H180v160Zm220 220h160v-160H400v160Zm0 220h160v-160H400v160ZM180-400h160v-160H180v160Zm440 0h160v-160H620v160ZM180-180h160v-160H180v160Zm440 0h160v-160H620v160Z\"/>\n",
              "  </svg>\n",
              "    </button>\n",
              "\n",
              "  <style>\n",
              "    .colab-df-container {\n",
              "      display:flex;\n",
              "      gap: 12px;\n",
              "    }\n",
              "\n",
              "    .colab-df-convert {\n",
              "      background-color: #E8F0FE;\n",
              "      border: none;\n",
              "      border-radius: 50%;\n",
              "      cursor: pointer;\n",
              "      display: none;\n",
              "      fill: #1967D2;\n",
              "      height: 32px;\n",
              "      padding: 0 0 0 0;\n",
              "      width: 32px;\n",
              "    }\n",
              "\n",
              "    .colab-df-convert:hover {\n",
              "      background-color: #E2EBFA;\n",
              "      box-shadow: 0px 1px 2px rgba(60, 64, 67, 0.3), 0px 1px 3px 1px rgba(60, 64, 67, 0.15);\n",
              "      fill: #174EA6;\n",
              "    }\n",
              "\n",
              "    .colab-df-buttons div {\n",
              "      margin-bottom: 4px;\n",
              "    }\n",
              "\n",
              "    [theme=dark] .colab-df-convert {\n",
              "      background-color: #3B4455;\n",
              "      fill: #D2E3FC;\n",
              "    }\n",
              "\n",
              "    [theme=dark] .colab-df-convert:hover {\n",
              "      background-color: #434B5C;\n",
              "      box-shadow: 0px 1px 3px 1px rgba(0, 0, 0, 0.15);\n",
              "      filter: drop-shadow(0px 1px 2px rgba(0, 0, 0, 0.3));\n",
              "      fill: #FFFFFF;\n",
              "    }\n",
              "  </style>\n",
              "\n",
              "    <script>\n",
              "      const buttonEl =\n",
              "        document.querySelector('#df-2776e4a7-931c-4d87-ade9-bca255e75c24 button.colab-df-convert');\n",
              "      buttonEl.style.display =\n",
              "        google.colab.kernel.accessAllowed ? 'block' : 'none';\n",
              "\n",
              "      async function convertToInteractive(key) {\n",
              "        const element = document.querySelector('#df-2776e4a7-931c-4d87-ade9-bca255e75c24');\n",
              "        const dataTable =\n",
              "          await google.colab.kernel.invokeFunction('convertToInteractive',\n",
              "                                                    [key], {});\n",
              "        if (!dataTable) return;\n",
              "\n",
              "        const docLinkHtml = 'Like what you see? Visit the ' +\n",
              "          '<a target=\"_blank\" href=https://colab.research.google.com/notebooks/data_table.ipynb>data table notebook</a>'\n",
              "          + ' to learn more about interactive tables.';\n",
              "        element.innerHTML = '';\n",
              "        dataTable['output_type'] = 'display_data';\n",
              "        await google.colab.output.renderOutput(dataTable, element);\n",
              "        const docLink = document.createElement('div');\n",
              "        docLink.innerHTML = docLinkHtml;\n",
              "        element.appendChild(docLink);\n",
              "      }\n",
              "    </script>\n",
              "  </div>\n",
              "\n",
              "\n",
              "    <div id=\"df-7790f84b-2559-4b2e-bbaa-5c6e4c714fb5\">\n",
              "      <button class=\"colab-df-quickchart\" onclick=\"quickchart('df-7790f84b-2559-4b2e-bbaa-5c6e4c714fb5')\"\n",
              "                title=\"Suggest charts\"\n",
              "                style=\"display:none;\">\n",
              "\n",
              "<svg xmlns=\"http://www.w3.org/2000/svg\" height=\"24px\"viewBox=\"0 0 24 24\"\n",
              "     width=\"24px\">\n",
              "    <g>\n",
              "        <path d=\"M19 3H5c-1.1 0-2 .9-2 2v14c0 1.1.9 2 2 2h14c1.1 0 2-.9 2-2V5c0-1.1-.9-2-2-2zM9 17H7v-7h2v7zm4 0h-2V7h2v10zm4 0h-2v-4h2v4z\"/>\n",
              "    </g>\n",
              "</svg>\n",
              "      </button>\n",
              "\n",
              "<style>\n",
              "  .colab-df-quickchart {\n",
              "      --bg-color: #E8F0FE;\n",
              "      --fill-color: #1967D2;\n",
              "      --hover-bg-color: #E2EBFA;\n",
              "      --hover-fill-color: #174EA6;\n",
              "      --disabled-fill-color: #AAA;\n",
              "      --disabled-bg-color: #DDD;\n",
              "  }\n",
              "\n",
              "  [theme=dark] .colab-df-quickchart {\n",
              "      --bg-color: #3B4455;\n",
              "      --fill-color: #D2E3FC;\n",
              "      --hover-bg-color: #434B5C;\n",
              "      --hover-fill-color: #FFFFFF;\n",
              "      --disabled-bg-color: #3B4455;\n",
              "      --disabled-fill-color: #666;\n",
              "  }\n",
              "\n",
              "  .colab-df-quickchart {\n",
              "    background-color: var(--bg-color);\n",
              "    border: none;\n",
              "    border-radius: 50%;\n",
              "    cursor: pointer;\n",
              "    display: none;\n",
              "    fill: var(--fill-color);\n",
              "    height: 32px;\n",
              "    padding: 0;\n",
              "    width: 32px;\n",
              "  }\n",
              "\n",
              "  .colab-df-quickchart:hover {\n",
              "    background-color: var(--hover-bg-color);\n",
              "    box-shadow: 0 1px 2px rgba(60, 64, 67, 0.3), 0 1px 3px 1px rgba(60, 64, 67, 0.15);\n",
              "    fill: var(--button-hover-fill-color);\n",
              "  }\n",
              "\n",
              "  .colab-df-quickchart-complete:disabled,\n",
              "  .colab-df-quickchart-complete:disabled:hover {\n",
              "    background-color: var(--disabled-bg-color);\n",
              "    fill: var(--disabled-fill-color);\n",
              "    box-shadow: none;\n",
              "  }\n",
              "\n",
              "  .colab-df-spinner {\n",
              "    border: 2px solid var(--fill-color);\n",
              "    border-color: transparent;\n",
              "    border-bottom-color: var(--fill-color);\n",
              "    animation:\n",
              "      spin 1s steps(1) infinite;\n",
              "  }\n",
              "\n",
              "  @keyframes spin {\n",
              "    0% {\n",
              "      border-color: transparent;\n",
              "      border-bottom-color: var(--fill-color);\n",
              "      border-left-color: var(--fill-color);\n",
              "    }\n",
              "    20% {\n",
              "      border-color: transparent;\n",
              "      border-left-color: var(--fill-color);\n",
              "      border-top-color: var(--fill-color);\n",
              "    }\n",
              "    30% {\n",
              "      border-color: transparent;\n",
              "      border-left-color: var(--fill-color);\n",
              "      border-top-color: var(--fill-color);\n",
              "      border-right-color: var(--fill-color);\n",
              "    }\n",
              "    40% {\n",
              "      border-color: transparent;\n",
              "      border-right-color: var(--fill-color);\n",
              "      border-top-color: var(--fill-color);\n",
              "    }\n",
              "    60% {\n",
              "      border-color: transparent;\n",
              "      border-right-color: var(--fill-color);\n",
              "    }\n",
              "    80% {\n",
              "      border-color: transparent;\n",
              "      border-right-color: var(--fill-color);\n",
              "      border-bottom-color: var(--fill-color);\n",
              "    }\n",
              "    90% {\n",
              "      border-color: transparent;\n",
              "      border-bottom-color: var(--fill-color);\n",
              "    }\n",
              "  }\n",
              "</style>\n",
              "\n",
              "      <script>\n",
              "        async function quickchart(key) {\n",
              "          const quickchartButtonEl =\n",
              "            document.querySelector('#' + key + ' button');\n",
              "          quickchartButtonEl.disabled = true;  // To prevent multiple clicks.\n",
              "          quickchartButtonEl.classList.add('colab-df-spinner');\n",
              "          try {\n",
              "            const charts = await google.colab.kernel.invokeFunction(\n",
              "                'suggestCharts', [key], {});\n",
              "          } catch (error) {\n",
              "            console.error('Error during call to suggestCharts:', error);\n",
              "          }\n",
              "          quickchartButtonEl.classList.remove('colab-df-spinner');\n",
              "          quickchartButtonEl.classList.add('colab-df-quickchart-complete');\n",
              "        }\n",
              "        (() => {\n",
              "          let quickchartButtonEl =\n",
              "            document.querySelector('#df-7790f84b-2559-4b2e-bbaa-5c6e4c714fb5 button');\n",
              "          quickchartButtonEl.style.display =\n",
              "            google.colab.kernel.accessAllowed ? 'block' : 'none';\n",
              "        })();\n",
              "      </script>\n",
              "    </div>\n",
              "\n",
              "    </div>\n",
              "  </div>\n"
            ],
            "application/vnd.google.colaboratory.intrinsic+json": {
              "type": "dataframe",
              "summary": "{\n  \"name\": \"recency_wiki_csv\",\n  \"rows\": 7,\n  \"fields\": [\n    {\n      \"column\": 495,\n      \"properties\": {\n        \"dtype\": \"string\",\n        \"num_unique_values\": 7,\n        \"samples\": [\n          0,\n          \"Church of the Province of Central Africa\",\n          \"of the Anglican Communion, and includes 15 dioceses in Botswana, Malawi, <span class=\\\"searchmatch\\\">Zambia</span> and Zimbabwe. The Primate of the Church is the Archbishop of Central Africa\"\n        ],\n        \"semantic_type\": \"\",\n        \"description\": \"\"\n      }\n    },\n    {\n      \"column\": 496,\n      \"properties\": {\n        \"dtype\": \"string\",\n        \"num_unique_values\": 7,\n        \"samples\": [\n          0,\n          \"Maureen Mwanawasa\",\n          \"Maureen Mwanawasa (n\\u00e9e Kakubo; 28 April 1963 \\u2013 13 August 2024) was a <span class=\\\"searchmatch\\\">Zambian</span> legal practitioner who was first lady from 2002 to 2008. She was also a member\"\n        ],\n        \"semantic_type\": \"\",\n        \"description\": \"\"\n      }\n    },\n    {\n      \"column\": 497,\n      \"properties\": {\n        \"dtype\": \"string\",\n        \"num_unique_values\": 7,\n        \"samples\": [\n          0,\n          \"List of power stations in Zambia\",\n          \"<span class=\\\"searchmatch\\\">Zambia</span> has five large power stations, of which four are hydroelectric and one is thermal. A fifth hydroelectric power plant is under construction at Itezhi-Tezhi\"\n        ],\n        \"semantic_type\": \"\",\n        \"description\": \"\"\n      }\n    },\n    {\n      \"column\": 498,\n      \"properties\": {\n        \"dtype\": \"string\",\n        \"num_unique_values\": 7,\n        \"samples\": [\n          0,\n          \"Order of the Eagle of Zambia\",\n          \"The Order of the Eagle of <span class=\\\"searchmatch\\\">Zambia</span> is the highest civil decoration of <span class=\\\"searchmatch\\\">Zambia</span>. Founded on 23 October 1965, it consists of four grades: Grand Commander (GCEZ)\"\n        ],\n        \"semantic_type\": \"\",\n        \"description\": \"\"\n      }\n    },\n    {\n      \"column\": 499,\n      \"properties\": {\n        \"dtype\": \"string\",\n        \"num_unique_values\": 7,\n        \"samples\": [\n          0,\n          \"COSAFA Cup\",\n          \"Tanzania, Uganda and Senegal. <span class=\\\"searchmatch\\\">Zambia</span> has won the most titles with seven wins, followed by Zimbabwe with six wins. <span class=\\\"searchmatch\\\">Zambia</span> has been the most prolific side\"\n        ],\n        \"semantic_type\": \"\",\n        \"description\": \"\"\n      }\n    }\n  ]\n}"
            }
          },
          "metadata": {},
          "execution_count": 10
        }
      ],
      "source": [
        "recency_wiki_csv.tail().T"
      ]
    },
    {
      "cell_type": "code",
      "execution_count": null,
      "metadata": {
        "id": "8cVjWgDitP_x"
      },
      "outputs": [],
      "source": [
        " #  import matplotli.pyplot as plt for Data virsualization\n",
        "import matplotlib.pyplot as plt"
      ]
    },
    {
      "cell_type": "code",
      "execution_count": null,
      "metadata": {
        "colab": {
          "base_uri": "https://localhost:8080/",
          "height": 495
        },
        "id": "NXLbo6Fat6Oy",
        "outputId": "0d29456a-70b9-4339-89db-b1590a1864c1"
      },
      "outputs": [
        {
          "output_type": "display_data",
          "data": {
            "text/plain": [
              "<Figure size 1000x500 with 2 Axes>"
            ],
            "image/png": "[encoded data removed]"
          },
          "metadata": {}
        }
      ],
      "source": [
        "recency_wiki_csv[['size', 'wordcount']].hist(bins=30, figsize=(10,5))\n",
        "plt.suptitle(\"Distribution of Article Size and Word Count\")\n",
        "plt.show()"
      ]
    },
    {
      "cell_type": "code",
      "execution_count": null,
      "metadata": {
        "colab": {
          "base_uri": "https://localhost:8080/",
          "height": 487
        },
        "id": "FF1D-j6B04Yc",
        "outputId": "e9013837-5038-4675-caf0-cd0092192291"
      },
      "outputs": [
        {
          "output_type": "display_data",
          "data": {
            "text/plain": [
              "<Figure size 1000x500 with 1 Axes>"
            ],
            "image/png": "[encoded data removed]"
          },
          "metadata": {}
        }
      ],
      "source": [
        "from datetime import datetime, timezone\n",
        "\n",
        "recency_wiki_csv['timestamp'] = pd.to_datetime(recency_wiki_csv['timestamp'], utc=True)\n",
        "recency_wiki_csv['days_since_last_edit'] = (datetime.now(timezone.utc) - recency_wiki_csv['timestamp']).dt.days\n",
        "recency_wiki_csv['days_since_last_edit'].hist(bins=30, figsize=(10,5))\n",
        "plt.title(\"Distribution of Days Since Last Edit\")\n",
        "plt.xlabel(\"Days\")\n",
        "plt.ylabel(\"Number of Pages\")\n",
        "plt.show()"
      ]
    },
    {
      "cell_type": "code",
      "execution_count": null,
      "metadata": {
        "colab": {
          "base_uri": "https://localhost:8080/",
          "height": 564
        },
        "id": "AhTIvEWj0Jzm",
        "outputId": "aa0f9a0e-1aa9-476d-94bb-a8906008182d"
      },
      "outputs": [
        {
          "output_type": "display_data",
          "data": {
            "text/plain": [
              "<Figure size 1000x600 with 1 Axes>"
            ],
            "image/png": "[encoded data removed]"
          },
          "metadata": {}
        }
      ],
      "source": [
        "# Horizontal Barchart for top 10 Zambian Pages by word count\n",
        "\n",
        "top_pages = recency_wiki_csv.nlargest(10, 'wordcount')\n",
        "top_pages.plot(x='title', y='wordcount', kind='barh', figsize=(10,6))\n",
        "plt.title(\"Top 10 Zambia Pages by Word Count\")\n",
        "plt.xlabel(\"Word Count\")\n",
        "plt.ylabel(\"Page Title\")\n",
        "plt.show()"
      ]
    },
    {
      "cell_type": "markdown",
      "metadata": {
        "id": "F9_PB6UGz8ji"
      },
      "source": [
        "# Summary of the observations seen\n",
        "\n",
        "###  1. Dataset Overview\n",
        "The dataset contains **500 Wikipedia pages** related to *“Zambia”*.\n",
        "\n",
        "**Columns include:**\n",
        "- `ns` (namespace)  \n",
        "- `title` (page title)  \n",
        "- `pageid` (unique page identifier)  \n",
        "- `size` (page size in bytes)  \n",
        "- `wordcount` (number of words on the page)  \n",
        "- `snippet` (short text excerpt from the page)  \n",
        "- `timestamp` (last edit timestamp)  \n",
        "\n",
        "\n",
        "###  2. Data Quality\n",
        "- **No null values** were detected in any of the columns.  \n",
        "- Column data types:  \n",
        "  - `ns`, `pageid`, `size`, `wordcount` → integers  \n",
        "  - `title`, `snippet`, `timestamp` → objects (strings)  \n",
        "- All **500 rows are complete**.  \n",
        "\n",
        "\n",
        "###  3. Numerical Attributes\n",
        "- **Page size (`size`)**: 244 bytes → 235,161 bytes  \n",
        "- **Word count (`wordcount`)**: 14 → 16,058 words  \n",
        "- Distributions are **skewed** with a few very large pages (outliers).  \n",
        "- Most pages are **moderate in size** (~4,000–18,000 bytes).  \n",
        "\n",
        "\n",
        "###  4. Timestamps\n",
        "- Latest edits in the dataset range from **2025-08-07 to 2025-08-13**.  \n",
        "- Converting the `timestamp` column to `datetime` allows calculation of **`days_since_last_edit`**.  \n",
        "\n",
        "\n",
        "###  5. Categorical Attributes\n",
        "- `title` is **unique** for each row.  \n",
        "- `ns` is **constant (0)** → all rows are main article namespace.  \n",
        "\n",
        "\n",
        "###  6. Observations\n",
        "- Dataset is **clean and complete**, with no missing values.  \n",
        "- `snippet` contains **HTML tags** (e.g., `<span class=\"searchmatch\">`) → can be cleaned for plain text analysis.  \n",
        "- Some pages are **much larger** (size & wordcount), showing a mix of **content-rich vs. stub articles**.  \n"
      ]
    },
    {
      "cell_type": "markdown",
      "metadata": {
        "id": "ZwvZLrYVhQi7"
      },
      "source": [
        "# DATA PREPARATION"
      ]
    },
    {
      "cell_type": "markdown",
      "metadata": {
        "id": "KuLu7gDii4gl"
      },
      "source": [
        "####  Data preparation refers to preparing data to be used in the modeling phase. It includes data cleaning which involves addressing any data quality issues, feature engineerin which involves creatin new variables from existing ones that might be more useful for the model, data transformation which involves preparing the data for chosen algorithms like scaling numerical categorical features."
      ]
    },
    {
      "cell_type": "markdown",
      "metadata": {
        "id": "y-Tf278HnIZC"
      },
      "source": [
        "####  We begin by checking for null values or checking if our dataset contains any null values"
      ]
    },
    {
      "cell_type": "code",
      "execution_count": null,
      "metadata": {
        "colab": {
          "base_uri": "https://localhost:8080/",
          "height": 335
        },
        "id": "3Wry_g7xkzVn",
        "outputId": "f2982c67-90e8-47b6-be62-54a008ae61e4"
      },
      "outputs": [
        {
          "output_type": "execute_result",
          "data": {
            "text/plain": [
              "ns                      0\n",
              "title                   0\n",
              "pageid                  0\n",
              "size                    0\n",
              "wordcount               0\n",
              "snippet                 0\n",
              "timestamp               0\n",
              "days_since_last_edit    0\n",
              "dtype: int64"
            ],
            "text/html": [
              "<div>\n",
              "<style scoped>\n",
              "    .dataframe tbody tr th:only-of-type {\n",
              "        vertical-align: middle;\n",
              "    }\n",
              "\n",
              "    .dataframe tbody tr th {\n",
              "        vertical-align: top;\n",
              "    }\n",
              "\n",
              "    .dataframe thead th {\n",
              "        text-align: right;\n",
              "    }\n",
              "</style>\n",
              "<table border=\"1\" class=\"dataframe\">\n",
              "  <thead>\n",
              "    <tr style=\"text-align: right;\">\n",
              "      <th></th>\n",
              "      <th>0</th>\n",
              "    </tr>\n",
              "  </thead>\n",
              "  <tbody>\n",
              "    <tr>\n",
              "      <th>ns</th>\n",
              "      <td>0</td>\n",
              "    </tr>\n",
              "    <tr>\n",
              "      <th>title</th>\n",
              "      <td>0</td>\n",
              "    </tr>\n",
              "    <tr>\n",
              "      <th>pageid</th>\n",
              "      <td>0</td>\n",
              "    </tr>\n",
              "    <tr>\n",
              "      <th>size</th>\n",
              "      <td>0</td>\n",
              "    </tr>\n",
              "    <tr>\n",
              "      <th>wordcount</th>\n",
              "      <td>0</td>\n",
              "    </tr>\n",
              "    <tr>\n",
              "      <th>snippet</th>\n",
              "      <td>0</td>\n",
              "    </tr>\n",
              "    <tr>\n",
              "      <th>timestamp</th>\n",
              "      <td>0</td>\n",
              "    </tr>\n",
              "    <tr>\n",
              "      <th>days_since_last_edit</th>\n",
              "      <td>0</td>\n",
              "    </tr>\n",
              "  </tbody>\n",
              "</table>\n",
              "</div><br><label><b>dtype:</b> int64</label>"
            ]
          },
          "metadata": {},
          "execution_count": 15
        }
      ],
      "source": [
        "recency_wiki_csv.isnull().sum()"
      ]
    },
    {
      "cell_type": "markdown",
      "metadata": {
        "id": "ZA6jVFMilxTy"
      },
      "source": [
        "As seen from the output above, there are no null or missing values."
      ]
    },
    {
      "cell_type": "markdown",
      "metadata": {
        "id": "e163UqHEoU6f"
      },
      "source": [
        "#### We then select the columns that we are interested in or columns that are useful in our case, e.g the timestamp column will be used to see the actual recency of the post, size and the wordcount can be used to show relations like posts with larger sizes are most recently updated and so on."
      ]
    },
    {
      "cell_type": "code",
      "execution_count": null,
      "metadata": {
        "colab": {
          "base_uri": "https://localhost:8080/",
          "height": 241
        },
        "id": "UQx4ifbTqa8F",
        "outputId": "3b438b6f-b0a9-4be7-ab64-8d894fc2ee83"
      },
      "outputs": [
        {
          "output_type": "execute_result",
          "data": {
            "text/plain": [
              "title                           Zambia\n",
              "pageid                           34415\n",
              "size                            151954\n",
              "wordcount                        14712\n",
              "timestamp    2025-08-13 06:32:53+00:00\n",
              "Name: 0, dtype: object"
            ],
            "text/html": [
              "<div>\n",
              "<style scoped>\n",
              "    .dataframe tbody tr th:only-of-type {\n",
              "        vertical-align: middle;\n",
              "    }\n",
              "\n",
              "    .dataframe tbody tr th {\n",
              "        vertical-align: top;\n",
              "    }\n",
              "\n",
              "    .dataframe thead th {\n",
              "        text-align: right;\n",
              "    }\n",
              "</style>\n",
              "<table border=\"1\" class=\"dataframe\">\n",
              "  <thead>\n",
              "    <tr style=\"text-align: right;\">\n",
              "      <th></th>\n",
              "      <th>0</th>\n",
              "    </tr>\n",
              "  </thead>\n",
              "  <tbody>\n",
              "    <tr>\n",
              "      <th>title</th>\n",
              "      <td>Zambia</td>\n",
              "    </tr>\n",
              "    <tr>\n",
              "      <th>pageid</th>\n",
              "      <td>34415</td>\n",
              "    </tr>\n",
              "    <tr>\n",
              "      <th>size</th>\n",
              "      <td>151954</td>\n",
              "    </tr>\n",
              "    <tr>\n",
              "      <th>wordcount</th>\n",
              "      <td>14712</td>\n",
              "    </tr>\n",
              "    <tr>\n",
              "      <th>timestamp</th>\n",
              "      <td>2025-08-13 06:32:53+00:00</td>\n",
              "    </tr>\n",
              "  </tbody>\n",
              "</table>\n",
              "</div><br><label><b>dtype:</b> object</label>"
            ]
          },
          "metadata": {},
          "execution_count": 16
        }
      ],
      "source": [
        "interested_in_columns = [\"title\", \"pageid\", \"size\", \"wordcount\", \"timestamp\"]\n",
        "\n",
        "# creating a dataframe containing the columns we need\n",
        "zambia_wiki_posts = recency_wiki_csv[interested_in_columns].copy()\n",
        "\n",
        "# to investigate and confirm the columns in the new dataframe by observing the first row\n",
        "zambia_wiki_posts.iloc[0].T"
      ]
    },
    {
      "cell_type": "markdown",
      "metadata": {
        "id": "cYb5swIvvfci"
      },
      "source": [
        "#### We then rename the column names for some attributes to make them more descriptive."
      ]
    },
    {
      "cell_type": "code",
      "execution_count": null,
      "metadata": {
        "colab": {
          "base_uri": "https://localhost:8080/"
        },
        "id": "J4gsRL2av2oq",
        "outputId": "5968ffb2-1e43-4641-c395-b299c0d76a07"
      },
      "outputs": [
        {
          "output_type": "execute_result",
          "data": {
            "text/plain": [
              "Index(['title', 'pageid', 'sizeInBytes', 'wordcount', 'lastEditTimeStamp'], dtype='object')"
            ]
          },
          "metadata": {},
          "execution_count": 17
        }
      ],
      "source": [
        "zambia_wiki_posts = zambia_wiki_posts.rename(columns={\"size\": \"sizeInBytes\", \"timestamp\": \"lastEditTimeStamp\"})\n",
        "\n",
        "# confirming changes in names\n",
        "zambia_wiki_posts.columns"
      ]
    },
    {
      "cell_type": "markdown",
      "metadata": {
        "id": "4H5CexPLuChi"
      },
      "source": [
        "#### Now, we derive necessary attributes to be used in the modelling phase."
      ]
    },
    {
      "cell_type": "markdown",
      "metadata": {
        "id": "wGKd7zSYu5gP"
      },
      "source": [
        "These attributes will serve as key factors to help us in the modelling phase."
      ]
    },
    {
      "cell_type": "code",
      "execution_count": null,
      "metadata": {
        "colab": {
          "base_uri": "https://localhost:8080/"
        },
        "id": "__y668UUv2Ac",
        "outputId": "9779c0fa-e978-4ec1-bf71-fed537dd39b3"
      },
      "outputs": [
        {
          "output_type": "execute_result",
          "data": {
            "text/plain": [
              "title                                             Zambia\n",
              "pageid                                             34415\n",
              "sizeInBytes                                       151954\n",
              "wordcount                                          14712\n",
              "lastEditTimeStamp              2025-08-13 06:32:53+00:00\n",
              "lastEditTimestampAsDatetime    2025-08-13 06:32:53+00:00\n",
              "daysSinceLastEdited                                   33\n",
              "Name: 0, dtype: object"
            ],
            "text/html": [
              "<div>\n",
              "<style scoped>\n",
              "    .dataframe tbody tr th:only-of-type {\n",
              "        vertical-align: middle;\n",
              "    }\n",
              "\n",
              "    .dataframe tbody tr th {\n",
              "        vertical-align: top;\n",
              "    }\n",
              "\n",
              "    .dataframe thead th {\n",
              "        text-align: right;\n",
              "    }\n",
              "</style>\n",
              "<table border=\"1\" class=\"dataframe\">\n",
              "  <thead>\n",
              "    <tr style=\"text-align: right;\">\n",
              "      <th></th>\n",
              "      <th>0</th>\n",
              "    </tr>\n",
              "  </thead>\n",
              "  <tbody>\n",
              "    <tr>\n",
              "      <th>title</th>\n",
              "      <td>Zambia</td>\n",
              "    </tr>\n",
              "    <tr>\n",
              "      <th>pageid</th>\n",
              "      <td>34415</td>\n",
              "    </tr>\n",
              "    <tr>\n",
              "      <th>sizeInBytes</th>\n",
              "      <td>151954</td>\n",
              "    </tr>\n",
              "    <tr>\n",
              "      <th>wordcount</th>\n",
              "      <td>14712</td>\n",
              "    </tr>\n",
              "    <tr>\n",
              "      <th>lastEditTimeStamp</th>\n",
              "      <td>2025-08-13 06:32:53+00:00</td>\n",
              "    </tr>\n",
              "    <tr>\n",
              "      <th>lastEditTimestampAsDatetime</th>\n",
              "      <td>2025-08-13 06:32:53+00:00</td>\n",
              "    </tr>\n",
              "    <tr>\n",
              "      <th>daysSinceLastEdited</th>\n",
              "      <td>33</td>\n",
              "    </tr>\n",
              "  </tbody>\n",
              "</table>\n",
              "</div><br><label><b>dtype:</b> object</label>"
            ]
          },
          "metadata": {},
          "execution_count": 18
        }
      ],
      "source": [
        "# Converts the last edit timestamp to a datetime object and calculates how many days have passed since each post was last edited\n",
        "\n",
        "from datetime import datetime, timezone\n",
        "\n",
        "zambia_wiki_posts[\"lastEditTimestampAsDatetime\"] = pd.to_datetime(zambia_wiki_posts[\"lastEditTimeStamp\"], utc=True)\n",
        "zambia_wiki_posts[\"daysSinceLastEdited\"] = (datetime.now(timezone.utc) - zambia_wiki_posts[\"lastEditTimestampAsDatetime\"]).dt.days\n",
        "\n",
        "# To observe and display the first row to see the changes made\n",
        "\n",
        "zambia_wiki_posts.iloc[0].T"
      ]
    },
    {
      "cell_type": "code",
      "execution_count": null,
      "metadata": {
        "colab": {
          "base_uri": "https://localhost:8080/"
        },
        "id": "rgrTYNW_xs55",
        "outputId": "d4bd9969-d1f3-4ebd-cd72-7550a8da56d8"
      },
      "outputs": [
        {
          "output_type": "execute_result",
          "data": {
            "text/plain": [
              "title                             Demographics of Zambia\n",
              "pageid                                             34431\n",
              "sizeInBytes                                        24255\n",
              "wordcount                                           1007\n",
              "lastEditTimeStamp              2025-07-11 23:26:10+00:00\n",
              "lastEditTimestampAsDatetime    2025-07-11 23:26:10+00:00\n",
              "daysSinceLastEdited                                   65\n",
              "Name: 5, dtype: object"
            ],
            "text/html": [
              "<div>\n",
              "<style scoped>\n",
              "    .dataframe tbody tr th:only-of-type {\n",
              "        vertical-align: middle;\n",
              "    }\n",
              "\n",
              "    .dataframe tbody tr th {\n",
              "        vertical-align: top;\n",
              "    }\n",
              "\n",
              "    .dataframe thead th {\n",
              "        text-align: right;\n",
              "    }\n",
              "</style>\n",
              "<table border=\"1\" class=\"dataframe\">\n",
              "  <thead>\n",
              "    <tr style=\"text-align: right;\">\n",
              "      <th></th>\n",
              "      <th>5</th>\n",
              "    </tr>\n",
              "  </thead>\n",
              "  <tbody>\n",
              "    <tr>\n",
              "      <th>title</th>\n",
              "      <td>Demographics of Zambia</td>\n",
              "    </tr>\n",
              "    <tr>\n",
              "      <th>pageid</th>\n",
              "      <td>34431</td>\n",
              "    </tr>\n",
              "    <tr>\n",
              "      <th>sizeInBytes</th>\n",
              "      <td>24255</td>\n",
              "    </tr>\n",
              "    <tr>\n",
              "      <th>wordcount</th>\n",
              "      <td>1007</td>\n",
              "    </tr>\n",
              "    <tr>\n",
              "      <th>lastEditTimeStamp</th>\n",
              "      <td>2025-07-11 23:26:10+00:00</td>\n",
              "    </tr>\n",
              "    <tr>\n",
              "      <th>lastEditTimestampAsDatetime</th>\n",
              "      <td>2025-07-11 23:26:10+00:00</td>\n",
              "    </tr>\n",
              "    <tr>\n",
              "      <th>daysSinceLastEdited</th>\n",
              "      <td>65</td>\n",
              "    </tr>\n",
              "  </tbody>\n",
              "</table>\n",
              "</div><br><label><b>dtype:</b> object</label>"
            ]
          },
          "metadata": {},
          "execution_count": 19
        }
      ],
      "source": [
        "# To observe and display the 6th row to see the changes made\n",
        "\n",
        "zambia_wiki_posts.iloc[5].T"
      ]
    },
    {
      "cell_type": "markdown",
      "metadata": {
        "id": "i8gd4vl73mcB"
      },
      "source": [
        "#### Given that we are dealing with numbers in size, wordcount and days since last edited, there is need to scale the numbers down so that all the values will be in the range of 0 and 1 using the MinMaxScaler. Scaling the numbers to some range like 0 to 1 help in ensuring fairness so that column values like sizeInBytes do not dominate the column values like for daysSinceLastEdit"
      ]
    },
    {
      "cell_type": "code",
      "execution_count": null,
      "metadata": {
        "colab": {
          "base_uri": "https://localhost:8080/",
          "height": 201
        },
        "id": "aYIRrJiP4Q3f",
        "outputId": "31ea48e8-fe0d-4dda-d8e8-cd14c36a3b5a"
      },
      "outputs": [
        {
          "output_type": "execute_result",
          "data": {
            "text/plain": [
              "                           title   pageid  sizeInBytes  wordcount  \\\n",
              "0                         Zambia    34415       151954      14712   \n",
              "1  Zambia national football team  1045380        54184       1145   \n",
              "\n",
              "          lastEditTimeStamp lastEditTimestampAsDatetime  daysSinceLastEdited  \\\n",
              "0 2025-08-13 06:32:53+00:00   2025-08-13 06:32:53+00:00                   33   \n",
              "1 2025-08-13 04:49:26+00:00   2025-08-13 04:49:26+00:00                   33   \n",
              "\n",
              "   sizeInBytesScaled  wordcountScaled  daysSinceLastEditedScaled  \n",
              "0           0.645803         0.916106                   0.001952  \n",
              "1           0.229613         0.070494                   0.001952  "
            ],
            "text/html": [
              "\n",
              "  <div id=\"df-f94eeff5-bf66-4dff-a01e-c2bfa60c0cc9\" class=\"colab-df-container\">\n",
              "    <div>\n",
              "<style scoped>\n",
              "    .dataframe tbody tr th:only-of-type {\n",
              "        vertical-align: middle;\n",
              "    }\n",
              "\n",
              "    .dataframe tbody tr th {\n",
              "        vertical-align: top;\n",
              "    }\n",
              "\n",
              "    .dataframe thead th {\n",
              "        text-align: right;\n",
              "    }\n",
              "</style>\n",
              "<table border=\"1\" class=\"dataframe\">\n",
              "  <thead>\n",
              "    <tr style=\"text-align: right;\">\n",
              "      <th></th>\n",
              "      <th>title</th>\n",
              "      <th>pageid</th>\n",
              "      <th>sizeInBytes</th>\n",
              "      <th>wordcount</th>\n",
              "      <th>lastEditTimeStamp</th>\n",
              "      <th>lastEditTimestampAsDatetime</th>\n",
              "      <th>daysSinceLastEdited</th>\n",
              "      <th>sizeInBytesScaled</th>\n",
              "      <th>wordcountScaled</th>\n",
              "      <th>daysSinceLastEditedScaled</th>\n",
              "    </tr>\n",
              "  </thead>\n",
              "  <tbody>\n",
              "    <tr>\n",
              "      <th>0</th>\n",
              "      <td>Zambia</td>\n",
              "      <td>34415</td>\n",
              "      <td>151954</td>\n",
              "      <td>14712</td>\n",
              "      <td>2025-08-13 06:32:53+00:00</td>\n",
              "      <td>2025-08-13 06:32:53+00:00</td>\n",
              "      <td>33</td>\n",
              "      <td>0.645803</td>\n",
              "      <td>0.916106</td>\n",
              "      <td>0.001952</td>\n",
              "    </tr>\n",
              "    <tr>\n",
              "      <th>1</th>\n",
              "      <td>Zambia national football team</td>\n",
              "      <td>1045380</td>\n",
              "      <td>54184</td>\n",
              "      <td>1145</td>\n",
              "      <td>2025-08-13 04:49:26+00:00</td>\n",
              "      <td>2025-08-13 04:49:26+00:00</td>\n",
              "      <td>33</td>\n",
              "      <td>0.229613</td>\n",
              "      <td>0.070494</td>\n",
              "      <td>0.001952</td>\n",
              "    </tr>\n",
              "  </tbody>\n",
              "</table>\n",
              "</div>\n",
              "    <div class=\"colab-df-buttons\">\n",
              "\n",
              "  <div class=\"colab-df-container\">\n",
              "    <button class=\"colab-df-convert\" onclick=\"convertToInteractive('df-f94eeff5-bf66-4dff-a01e-c2bfa60c0cc9')\"\n",
              "            title=\"Convert this dataframe to an interactive table.\"\n",
              "            style=\"display:none;\">\n",
              "\n",
              "  <svg xmlns=\"http://www.w3.org/2000/svg\" height=\"24px\" viewBox=\"0 -960 960 960\">\n",
              "    <path d=\"M120-120v-720h720v720H120Zm60-500h600v-160H180v160Zm220 220h160v-160H400v160Zm0 220h160v-160H400v160ZM180-400h160v-160H180v160Zm440 0h160v-160H620v160ZM180-180h160v-160H180v160Zm440 0h160v-160H620v160Z\"/>\n",
              "  </svg>\n",
              "    </button>\n",
              "\n",
              "  <style>\n",
              "    .colab-df-container {\n",
              "      display:flex;\n",
              "      gap: 12px;\n",
              "    }\n",
              "\n",
              "    .colab-df-convert {\n",
              "      background-color: #E8F0FE;\n",
              "      border: none;\n",
              "      border-radius: 50%;\n",
              "      cursor: pointer;\n",
              "      display: none;\n",
              "      fill: #1967D2;\n",
              "      height: 32px;\n",
              "      padding: 0 0 0 0;\n",
              "      width: 32px;\n",
              "    }\n",
              "\n",
              "    .colab-df-convert:hover {\n",
              "      background-color: #E2EBFA;\n",
              "      box-shadow: 0px 1px 2px rgba(60, 64, 67, 0.3), 0px 1px 3px 1px rgba(60, 64, 67, 0.15);\n",
              "      fill: #174EA6;\n",
              "    }\n",
              "\n",
              "    .colab-df-buttons div {\n",
              "      margin-bottom: 4px;\n",
              "    }\n",
              "\n",
              "    [theme=dark] .colab-df-convert {\n",
              "      background-color: #3B4455;\n",
              "      fill: #D2E3FC;\n",
              "    }\n",
              "\n",
              "    [theme=dark] .colab-df-convert:hover {\n",
              "      background-color: #434B5C;\n",
              "      box-shadow: 0px 1px 3px 1px rgba(0, 0, 0, 0.15);\n",
              "      filter: drop-shadow(0px 1px 2px rgba(0, 0, 0, 0.3));\n",
              "      fill: #FFFFFF;\n",
              "    }\n",
              "  </style>\n",
              "\n",
              "    <script>\n",
              "      const buttonEl =\n",
              "        document.querySelector('#df-f94eeff5-bf66-4dff-a01e-c2bfa60c0cc9 button.colab-df-convert');\n",
              "      buttonEl.style.display =\n",
              "        google.colab.kernel.accessAllowed ? 'block' : 'none';\n",
              "\n",
              "      async function convertToInteractive(key) {\n",
              "        const element = document.querySelector('#df-f94eeff5-bf66-4dff-a01e-c2bfa60c0cc9');\n",
              "        const dataTable =\n",
              "          await google.colab.kernel.invokeFunction('convertToInteractive',\n",
              "                                                    [key], {});\n",
              "        if (!dataTable) return;\n",
              "\n",
              "        const docLinkHtml = 'Like what you see? Visit the ' +\n",
              "          '<a target=\"_blank\" href=https://colab.research.google.com/notebooks/data_table.ipynb>data table notebook</a>'\n",
              "          + ' to learn more about interactive tables.';\n",
              "        element.innerHTML = '';\n",
              "        dataTable['output_type'] = 'display_data';\n",
              "        await google.colab.output.renderOutput(dataTable, element);\n",
              "        const docLink = document.createElement('div');\n",
              "        docLink.innerHTML = docLinkHtml;\n",
              "        element.appendChild(docLink);\n",
              "      }\n",
              "    </script>\n",
              "  </div>\n",
              "\n",
              "\n",
              "    <div id=\"df-4ed6223f-1c72-4dc6-a3e2-5c62dce00cf8\">\n",
              "      <button class=\"colab-df-quickchart\" onclick=\"quickchart('df-4ed6223f-1c72-4dc6-a3e2-5c62dce00cf8')\"\n",
              "                title=\"Suggest charts\"\n",
              "                style=\"display:none;\">\n",
              "\n",
              "<svg xmlns=\"http://www.w3.org/2000/svg\" height=\"24px\"viewBox=\"0 0 24 24\"\n",
              "     width=\"24px\">\n",
              "    <g>\n",
              "        <path d=\"M19 3H5c-1.1 0-2 .9-2 2v14c0 1.1.9 2 2 2h14c1.1 0 2-.9 2-2V5c0-1.1-.9-2-2-2zM9 17H7v-7h2v7zm4 0h-2V7h2v10zm4 0h-2v-4h2v4z\"/>\n",
              "    </g>\n",
              "</svg>\n",
              "      </button>\n",
              "\n",
              "<style>\n",
              "  .colab-df-quickchart {\n",
              "      --bg-color: #E8F0FE;\n",
              "      --fill-color: #1967D2;\n",
              "      --hover-bg-color: #E2EBFA;\n",
              "      --hover-fill-color: #174EA6;\n",
              "      --disabled-fill-color: #AAA;\n",
              "      --disabled-bg-color: #DDD;\n",
              "  }\n",
              "\n",
              "  [theme=dark] .colab-df-quickchart {\n",
              "      --bg-color: #3B4455;\n",
              "      --fill-color: #D2E3FC;\n",
              "      --hover-bg-color: #434B5C;\n",
              "      --hover-fill-color: #FFFFFF;\n",
              "      --disabled-bg-color: #3B4455;\n",
              "      --disabled-fill-color: #666;\n",
              "  }\n",
              "\n",
              "  .colab-df-quickchart {\n",
              "    background-color: var(--bg-color);\n",
              "    border: none;\n",
              "    border-radius: 50%;\n",
              "    cursor: pointer;\n",
              "    display: none;\n",
              "    fill: var(--fill-color);\n",
              "    height: 32px;\n",
              "    padding: 0;\n",
              "    width: 32px;\n",
              "  }\n",
              "\n",
              "  .colab-df-quickchart:hover {\n",
              "    background-color: var(--hover-bg-color);\n",
              "    box-shadow: 0 1px 2px rgba(60, 64, 67, 0.3), 0 1px 3px 1px rgba(60, 64, 67, 0.15);\n",
              "    fill: var(--button-hover-fill-color);\n",
              "  }\n",
              "\n",
              "  .colab-df-quickchart-complete:disabled,\n",
              "  .colab-df-quickchart-complete:disabled:hover {\n",
              "    background-color: var(--disabled-bg-color);\n",
              "    fill: var(--disabled-fill-color);\n",
              "    box-shadow: none;\n",
              "  }\n",
              "\n",
              "  .colab-df-spinner {\n",
              "    border: 2px solid var(--fill-color);\n",
              "    border-color: transparent;\n",
              "    border-bottom-color: var(--fill-color);\n",
              "    animation:\n",
              "      spin 1s steps(1) infinite;\n",
              "  }\n",
              "\n",
              "  @keyframes spin {\n",
              "    0% {\n",
              "      border-color: transparent;\n",
              "      border-bottom-color: var(--fill-color);\n",
              "      border-left-color: var(--fill-color);\n",
              "    }\n",
              "    20% {\n",
              "      border-color: transparent;\n",
              "      border-left-color: var(--fill-color);\n",
              "      border-top-color: var(--fill-color);\n",
              "    }\n",
              "    30% {\n",
              "      border-color: transparent;\n",
              "      border-left-color: var(--fill-color);\n",
              "      border-top-color: var(--fill-color);\n",
              "      border-right-color: var(--fill-color);\n",
              "    }\n",
              "    40% {\n",
              "      border-color: transparent;\n",
              "      border-right-color: var(--fill-color);\n",
              "      border-top-color: var(--fill-color);\n",
              "    }\n",
              "    60% {\n",
              "      border-color: transparent;\n",
              "      border-right-color: var(--fill-color);\n",
              "    }\n",
              "    80% {\n",
              "      border-color: transparent;\n",
              "      border-right-color: var(--fill-color);\n",
              "      border-bottom-color: var(--fill-color);\n",
              "    }\n",
              "    90% {\n",
              "      border-color: transparent;\n",
              "      border-bottom-color: var(--fill-color);\n",
              "    }\n",
              "  }\n",
              "</style>\n",
              "\n",
              "      <script>\n",
              "        async function quickchart(key) {\n",
              "          const quickchartButtonEl =\n",
              "            document.querySelector('#' + key + ' button');\n",
              "          quickchartButtonEl.disabled = true;  // To prevent multiple clicks.\n",
              "          quickchartButtonEl.classList.add('colab-df-spinner');\n",
              "          try {\n",
              "            const charts = await google.colab.kernel.invokeFunction(\n",
              "                'suggestCharts', [key], {});\n",
              "          } catch (error) {\n",
              "            console.error('Error during call to suggestCharts:', error);\n",
              "          }\n",
              "          quickchartButtonEl.classList.remove('colab-df-spinner');\n",
              "          quickchartButtonEl.classList.add('colab-df-quickchart-complete');\n",
              "        }\n",
              "        (() => {\n",
              "          let quickchartButtonEl =\n",
              "            document.querySelector('#df-4ed6223f-1c72-4dc6-a3e2-5c62dce00cf8 button');\n",
              "          quickchartButtonEl.style.display =\n",
              "            google.colab.kernel.accessAllowed ? 'block' : 'none';\n",
              "        })();\n",
              "      </script>\n",
              "    </div>\n",
              "\n",
              "    </div>\n",
              "  </div>\n"
            ],
            "application/vnd.google.colaboratory.intrinsic+json": {
              "type": "dataframe",
              "variable_name": "zambia_wiki_posts",
              "summary": "{\n  \"name\": \"zambia_wiki_posts\",\n  \"rows\": 500,\n  \"fields\": [\n    {\n      \"column\": \"title\",\n      \"properties\": {\n        \"dtype\": \"string\",\n        \"num_unique_values\": 500,\n        \"samples\": [\n          \"Kelvin Kapumbu\",\n          \"2025 Sino-Metals Leach Zambia dam disaster\",\n          \"Momba, Zambia\"\n        ],\n        \"semantic_type\": \"\",\n        \"description\": \"\"\n      }\n    },\n    {\n      \"column\": \"pageid\",\n      \"properties\": {\n        \"dtype\": \"number\",\n        \"std\": 27568980,\n        \"min\": 708,\n        \"max\": 80715728,\n        \"num_unique_values\": 500,\n        \"samples\": [\n          75767809,\n          79466970,\n          27752817\n        ],\n        \"semantic_type\": \"\",\n        \"description\": \"\"\n      }\n    },\n    {\n      \"column\": \"sizeInBytes\",\n      \"properties\": {\n        \"dtype\": \"number\",\n        \"std\": 19735,\n        \"min\": 244,\n        \"max\": 235161,\n        \"num_unique_values\": 495,\n        \"samples\": [\n          1449,\n          10454,\n          3498\n        ],\n        \"semantic_type\": \"\",\n        \"description\": \"\"\n      }\n    },\n    {\n      \"column\": \"wordcount\",\n      \"properties\": {\n        \"dtype\": \"number\",\n        \"std\": 1696,\n        \"min\": 14,\n        \"max\": 16058,\n        \"num_unique_values\": 451,\n        \"samples\": [\n          1237,\n          1850,\n          653\n        ],\n        \"semantic_type\": \"\",\n        \"description\": \"\"\n      }\n    },\n    {\n      \"column\": \"lastEditTimeStamp\",\n      \"properties\": {\n        \"dtype\": \"date\",\n        \"min\": \"2018-08-13 16:44:22+00:00\",\n        \"max\": \"2025-08-18 10:17:40+00:00\",\n        \"num_unique_values\": 497,\n        \"samples\": [\n          \"2025-03-07 21:19:33+00:00\",\n          \"2025-08-06 12:33:28+00:00\",\n          \"2025-08-11 04:40:39+00:00\"\n        ],\n        \"semantic_type\": \"\",\n        \"description\": \"\"\n      }\n    },\n    {\n      \"column\": \"lastEditTimestampAsDatetime\",\n      \"properties\": {\n        \"dtype\": \"date\",\n        \"min\": \"2018-08-13 16:44:22+00:00\",\n        \"max\": \"2025-08-18 10:17:40+00:00\",\n        \"num_unique_values\": 497,\n        \"samples\": [\n          \"2025-03-07 21:19:33+00:00\",\n          \"2025-08-06 12:33:28+00:00\",\n          \"2025-08-11 04:40:39+00:00\"\n        ],\n        \"semantic_type\": \"\",\n        \"description\": \"\"\n      }\n    },\n    {\n      \"column\": \"daysSinceLastEdited\",\n      \"properties\": {\n        \"dtype\": \"number\",\n        \"std\": 274,\n        \"min\": 28,\n        \"max\": 2589,\n        \"num_unique_values\": 237,\n        \"samples\": [\n          146,\n          34,\n          481\n        ],\n        \"semantic_type\": \"\",\n        \"description\": \"\"\n      }\n    },\n    {\n      \"column\": \"sizeInBytesScaled\",\n      \"properties\": {\n        \"dtype\": \"number\",\n        \"std\": 0.08400908200721353,\n        \"min\": 0.0,\n        \"max\": 0.9999999999999999,\n        \"num_unique_values\": 495,\n        \"samples\": [\n          0.005129471260062064,\n          0.043462158975297656,\n          0.013851700813478801\n        ],\n        \"semantic_type\": \"\",\n        \"description\": \"\"\n      }\n    },\n    {\n      \"column\": \"wordcountScaled\",\n      \"properties\": {\n        \"dtype\": \"number\",\n        \"std\": 0.10571789588094796,\n        \"min\": 0.0,\n        \"max\": 1.0,\n        \"num_unique_values\": 451,\n        \"samples\": [\n          0.07622787334829219,\n          0.11443530291697832,\n          0.039827973074046376\n        ],\n        \"semantic_type\": \"\",\n        \"description\": \"\"\n      }\n    },\n    {\n      \"column\": \"daysSinceLastEditedScaled\",\n      \"properties\": {\n        \"dtype\": \"number\",\n        \"std\": 0.10707436568146304,\n        \"min\": 0.0,\n        \"max\": 1.0,\n        \"num_unique_values\": 237,\n        \"samples\": [\n          0.04607575165950801,\n          0.0023428348301444742,\n          0.17688402967590786\n        ],\n        \"semantic_type\": \"\",\n        \"description\": \"\"\n      }\n    }\n  ]\n}"
            }
          },
          "metadata": {},
          "execution_count": 20
        }
      ],
      "source": [
        "from sklearn.preprocessing import MinMaxScaler\n",
        "\n",
        "columns_to_scale = [\"sizeInBytes\", \"wordcount\", \"daysSinceLastEdited\"]\n",
        "\n",
        "scaler = MinMaxScaler()\n",
        "\n",
        "# keeping the old original attributes and the new ones appending the new ones with Scaled after the actual field name\n",
        "zambia_wiki_posts[[column + \"Scaled\" for column in columns_to_scale]] = scaler.fit_transform(\n",
        "    zambia_wiki_posts[columns_to_scale]\n",
        ")\n",
        "\n",
        "# observing the output of the first 2 rows to see if changes have taken effect\n",
        "zambia_wiki_posts.head(2)"
      ]
    },
    {
      "cell_type": "markdown",
      "metadata": {
        "id": "BX1KbxF3C6sE"
      },
      "source": [
        "# 4. Modeling\n",
        "\n",
        "In this phase, we aim to build and train one or more data mining models to classify Zambian Wikipedia pages based on how recently they were edited.  \n",
        "The goal is to assign pages to one of three categories:  \n",
        "- Current  \n",
        "- Moderately Outdated  \n",
        "- Severely Outdated\n",
        "\n",
        "This follows the CRISP-DM modeling step, where we select algorithms, split the data, train models, and observe preliminary patterns before formal evaluation."
      ]
    },
    {
      "cell_type": "code",
      "execution_count": null,
      "metadata": {
        "colab": {
          "base_uri": "https://localhost:8080/"
        },
        "id": "2rmJDuETDLcR",
        "outputId": "875087d0-abcb-43d5-db40-3112bcd34f35"
      },
      "outputs": [
        {
          "output_type": "stream",
          "name": "stdout",
          "text": [
            "Prepared CSV saved: 'zambia_wiki_prepared_for_modeling.csv'\n"
          ]
        }
      ],
      "source": [
        "from sklearn.model_selection import train_test_split\n",
        "from sklearn.tree import DecisionTreeClassifier\n",
        "from sklearn.ensemble import RandomForestClassifier\n",
        "from sklearn.metrics import classification_report, confusion_matrix, accuracy_score\n",
        "\n",
        "# We use this function to add the recency label\n",
        "def fxn_recency_category(days):\n",
        "    if days <= 30:\n",
        "        return \"Current\"\n",
        "    elif days <= 180:\n",
        "        return \"Moderately Outdated\"\n",
        "    else:\n",
        "        return \"Severely Outdated\"\n",
        "\n",
        "zambia_wiki_posts[\"recency_label\"] = zambia_wiki_posts[\"daysSinceLastEdited\"].apply(fxn_recency_category)\n",
        "\n",
        "# Saving new CSV file for modeling\n",
        "zambia_wiki_posts.to_csv(\"./zambia_wiki_prepared_for_modeling.csv\", index=False)\n",
        "print(\"Prepared CSV saved: 'zambia_wiki_prepared_for_modeling.csv'\")"
      ]
    },
    {
      "cell_type": "markdown",
      "metadata": {
        "id": "LWav1-duNW-O"
      },
      "source": [
        "**Features (X) and Target (y):**\n",
        "\n",
        "- **Features (X):**  \n",
        "    - `sizeInBytesScaled`, `wordcountScaled`, `daysSinceLastEditedScaled`  \n",
        "    These scaled numeric columns represent page size, content depth, and time since last edit. They are directly relevant to predicting recency.\n",
        "\n",
        "- **Target (y):**  \n",
        "    - `recency_label`  \n",
        "    This is the categorical label we aim to predict: Current, Moderately Outdated, or Severely Outdated.\n",
        "\n",
        "**Why these columns:**  \n",
        "- Days since last edit is the most informative feature for recency.  \n",
        "- Size and word count help capture differences between pages that are large but may not have been updated recently."
      ]
    },
    {
      "cell_type": "code",
      "execution_count": null,
      "metadata": {
        "colab": {
          "base_uri": "https://localhost:8080/"
        },
        "id": "FLWziRsBjkz4",
        "outputId": "51dbcf03-cf77-4211-ba5f-934dd67ea0b7"
      },
      "outputs": [
        {
          "output_type": "stream",
          "name": "stdout",
          "text": [
            "Training data shape: (400, 3), (400,)\n",
            "Testing data shape: (100, 3), (100,)\n"
          ]
        }
      ],
      "source": [
        "# Defining features and target\n",
        "feature_columns = [\"sizeInBytesScaled\", \"wordcountScaled\", \"daysSinceLastEditedScaled\"]\n",
        "target_column = \"recency_label\"\n",
        "\n",
        "X = zambia_wiki_posts[feature_columns]\n",
        "y = zambia_wiki_posts[target_column]\n",
        "\n",
        "# Splitting the dataset (80% train / 20% test) with statification\n",
        "X_train, X_test, y_train, y_test = train_test_split(\n",
        "    X, y, test_size=0.2, random_state=42, stratify=y\n",
        ")\n",
        "\n",
        "print(f\"Training data shape: {X_train.shape}, {y_train.shape}\")\n",
        "print(f\"Testing data shape: {X_test.shape}, {y_test.shape}\")"
      ]
    },
    {
      "cell_type": "code",
      "execution_count": null,
      "metadata": {
        "colab": {
          "base_uri": "https://localhost:8080/"
        },
        "id": "X6PRA3eYyCkk",
        "outputId": "85f3dc2d-2d14-4e38-e4ad-6a79144ebd10"
      },
      "outputs": [
        {
          "output_type": "stream",
          "name": "stdout",
          "text": [
            "Decision Tree training complete.\n",
            "Random Forest training complete.\n"
          ]
        }
      ],
      "source": [
        "# Train Decision Tree\n",
        "dt_model = DecisionTreeClassifier(random_state=42)\n",
        "dt_model.fit(X_train, y_train)\n",
        "print(\"Decision Tree training complete.\")\n",
        "\n",
        "# Train Random Forest\n",
        "\n",
        "rf_model = RandomForestClassifier(random_state=42, n_estimators=100)\n",
        "rf_model.fit(X_train, y_train)\n",
        "print(\"Random Forest training complete.\")"
      ]
    },
    {
      "cell_type": "markdown",
      "metadata": {
        "id": "4fDqiaZNRGli"
      },
      "source": [
        "\\**Preliminary Observations:**\n",
        "\n",
        "- Both models were able to learn the patterns in the dataset quickly.  \n",
        "- The `daysSinceLastEditedScaled` feature appears to dominate the classification, which aligns with our intuition: pages that were edited recently are more likely to be labeled \"Current.\"  \n",
        "- The Decision Tree is fully interpretable and shows how thresholds on days since last edit and page size help classify recency.  \n",
        "- Random Forest builds on this by combining multiple trees, providing slightly more robustness even if the dataset were noisier.  \n",
        "\n",
        "These observations are part of the modeling phase-they give a first glance at how well our features can inform recency classification before formal evaluation."
      ]
    },
    {
      "cell_type": "markdown",
      "metadata": {
        "id": "LzjlswKXGn2Y"
      },
      "source": [
        "# 5. Evaluation\n",
        "\n",
        "After training both the Decision Tree and the Random Forest models, we tested them on the 20% hold-out test set (100 pages).  \n",
        "The idea was to see how well they can correctly classify pages into **Current**, **Moderately Outdated**, and **Severely Outdated**.\n",
        "\n",
        "\n",
        "\n",
        "### Decision Tree Results\n",
        "\n",
        "- **Confusion Matrix**"
      ]
    },
    {
      "cell_type": "code",
      "execution_count": null,
      "metadata": {
        "colab": {
          "base_uri": "https://localhost:8080/"
        },
        "id": "KlKNjmN3G9o4",
        "outputId": "d57e1ecf-d15e-47ec-d598-86fca163b9ee"
      },
      "outputs": [
        {
          "output_type": "stream",
          "name": "stdout",
          "text": [
            "[[ 7  0  0]\n",
            " [ 0 63  0]\n",
            " [ 0  0 30]]\n",
            "\n",
            "Classification Report:\n",
            "                     precision    recall  f1-score   support\n",
            "\n",
            "            Current       1.00      1.00      1.00         7\n",
            "Moderately Outdated       1.00      1.00      1.00        63\n",
            "  Severely Outdated       1.00      1.00      1.00        30\n",
            "\n",
            "           accuracy                           1.00       100\n",
            "          macro avg       1.00      1.00      1.00       100\n",
            "       weighted avg       1.00      1.00      1.00       100\n",
            "\n",
            "Accuracy: 1.00\n"
          ]
        }
      ],
      "source": [
        "y_pred_dt = dt_model.predict(X_test)\n",
        "print(confusion_matrix(y_test, y_pred_dt))\n",
        "print(\"\\nClassification Report:\")\n",
        "print(classification_report(y_test, y_pred_dt))\n",
        "print(f\"Accuracy: {accuracy_score(y_test, y_pred_dt):.2f}\")"
      ]
    },
    {
      "cell_type": "markdown",
      "metadata": {
        "id": "i0wdH8-bHEsE"
      },
      "source": [
        "### Random Forest Results\n",
        "\n",
        "- **Confusion Matrix**"
      ]
    },
    {
      "cell_type": "code",
      "execution_count": null,
      "metadata": {
        "colab": {
          "base_uri": "https://localhost:8080/"
        },
        "id": "9HPPAXRXHJlh",
        "outputId": "bd60bce3-53bd-489a-8684-615cb94c50fa"
      },
      "outputs": [
        {
          "output_type": "stream",
          "name": "stdout",
          "text": [
            "[[ 7  0  0]\n",
            " [ 0 63  0]\n",
            " [ 0  1 29]]\n",
            "\n",
            "Classification Report:\n",
            "                     precision    recall  f1-score   support\n",
            "\n",
            "            Current       1.00      1.00      1.00         7\n",
            "Moderately Outdated       0.98      1.00      0.99        63\n",
            "  Severely Outdated       1.00      0.97      0.98        30\n",
            "\n",
            "           accuracy                           0.99       100\n",
            "          macro avg       0.99      0.99      0.99       100\n",
            "       weighted avg       0.99      0.99      0.99       100\n",
            "\n",
            "Accuracy: 0.99\n"
          ]
        }
      ],
      "source": [
        "y_pred_rf = rf_model.predict(X_test)\n",
        "print(confusion_matrix(y_test, y_pred_rf))\n",
        "print(\"\\nClassification Report:\")\n",
        "print(classification_report(y_test, y_pred_rf))\n",
        "print(f\"Accuracy: {accuracy_score(y_test, y_pred_rf):.2f}\")"
      ]
    },
    {
      "cell_type": "markdown",
      "source": [
        "- **Accuracy:** 0.99 (99%)\n",
        "- Only one page was misclassified in the **Severely Outdated** class, but overall performance was still very high.\n",
        "\n",
        "\n",
        "\n",
        "### Observations\n",
        "\n",
        "- Both models performed extremely well, which suggests that the features we used (`sizeInBytes`, `wordcount`, and `daysSinceLastEdited`) are very strong indicators of recency.\n",
        "- The **Decision Tree** hit a perfect score, but that might also mean it could be overfitting slightly.\n",
        "- The **Random Forest** gave almost the same results, but is more robust since it averages across many trees.\n",
        "- Either model would work, but for deployment we chose the **Random Forest** because it’s usually more stable in practice."
      ],
      "metadata": {
        "id": "hlp7ReT5Pkc_"
      }
    },
    {
      "cell_type": "markdown",
      "source": [
        "# 6. Deployment"
      ],
      "metadata": {
        "id": "I5ouD0_rQbe4"
      }
    },
    {
      "cell_type": "markdown",
      "source": [
        "The deployment step is about showing how our trained model can actually be used outside of Colab.  \n",
        "For this project, we just made a **simple prediction function** that takes three inputs:\n",
        "\n",
        "- Page size in bytes\n",
        "- Word count\n",
        "- Last edit date (YYYY-MM-DD)\n",
        "\n",
        "and then tells us if the page is **Current**, **Moderately Outdated**, or **Severely Outdated**."
      ],
      "metadata": {
        "id": "illjnUQ-RL7C"
      }
    },
    {
      "cell_type": "code",
      "source": [
        "from datetime import datetime, timezone\n",
        "import pandas as pd\n",
        "\n",
        "def fxn_predict_recency(page_size, wordcount, last_edit_date):\n",
        "    last_edit_date = datetime.strptime(last_edit_date, \"%Y-%m-%d\")\n",
        "    days_since = (datetime.now(timezone.utc).date() - last_edit_date.date()).days\n",
        "\n",
        "    instance = pd.DataFrame({\n",
        "        \"sizeInBytes\": [page_size],\n",
        "        \"wordcount\": [wordcount],\n",
        "        \"daysSinceLastEdited\": [days_since]\n",
        "    })\n",
        "\n",
        "    instance_scaled = scaler.transform(instance)\n",
        "    prediction = rf_model.predict(instance_scaled)[0]\n",
        "    return prediction\n",
        "\n",
        "\n",
        "# usage of deployed function\n",
        "\n",
        "example_prediction = fxn_predict_recency(12000, 800, \"2025-08-01\")\n",
        "print(f\"\\nExample Prediction (page_size=12000, wordcount=800, last_edit=2025-08-01): {example_prediction}\")\n"
      ],
      "metadata": {
        "colab": {
          "base_uri": "https://localhost:8080/"
        },
        "id": "nXud_ZjES21u",
        "outputId": "66e3db48-2416-4032-d0f3-a36ab218af36"
      },
      "execution_count": null,
      "outputs": [
        {
          "output_type": "stream",
          "name": "stdout",
          "text": [
            "\n",
            "Example Prediction (page_size=12000, wordcount=800, last_edit=2025-08-01): Moderately Outdated\n"
          ]
        },
        {
          "output_type": "stream",
          "name": "stderr",
          "text": [
            "/usr/local/lib/python3.12/dist-packages/sklearn/utils/validation.py:2739: UserWarning: X does not have valid feature names, but RandomForestClassifier was fitted with feature names\n",
            "  warnings.warn(\n"
          ]
        }
      ]
    },
    {
      "cell_type": "markdown",
      "source": [
        " **Note:** We tested the deployment function with a page of size **12000 bytes**, word count **800**, and last edited on **2025-08-01**.  \n",
        "> The model scaled the inputs and predicted the page as **Moderately Outdated**.  \n",
        "> This shows that in practice, we can simply provide the page info and the model tells us how fresh (or old) it is.\n"
      ],
      "metadata": {
        "id": "QcyhW_SzWLkn"
      }
    }
  ],
  "metadata": {
    "colab": {
      "collapsed_sections": [
        "4H5CexPLuChi"
      ],
      "provenance": [],
      "include_colab_link": true
    },
    "kernelspec": {
      "display_name": "Python 3",
      "name": "python3"
    },
    "language_info": {
      "name": "python"
    }
  },
  "nbformat": 4,
  "nbformat_minor": 0
}